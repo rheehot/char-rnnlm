{
 "cells": [
  {
   "cell_type": "markdown",
   "metadata": {},
   "source": [
    "# Preprocess for Language Model"
   ]
  },
  {
   "cell_type": "markdown",
   "metadata": {},
   "source": [
    "수집한 Corpus를 통합하여 일련의 규칙으로 전처리"
   ]
  },
  {
   "cell_type": "markdown",
   "metadata": {},
   "source": [
    "* 필요한 라이브러리 import"
   ]
  },
  {
   "cell_type": "code",
   "execution_count": 1,
   "metadata": {},
   "outputs": [],
   "source": [
    "import pandas as pd\n",
    "import numpy as np\n",
    "import random\n",
    "import pickle"
   ]
  },
  {
   "cell_type": "markdown",
   "metadata": {},
   "source": [
    "* 수집한 corpus 통합"
   ]
  },
  {
   "cell_type": "code",
   "execution_count": 2,
   "metadata": {},
   "outputs": [],
   "source": [
    "kor_corpus = pd.read_csv('../data/OpenSubtitles.csv', encoding='utf-8')\n",
    "sub_corpus = pd.read_csv('../data/new_kor.csv', encoding='cp949')\n",
    "kor_corpus = pd.concat([kor_corpus, sub_corpus])\n",
    "\n",
    "sub_corpus = pd.read_csv('../data/tatoeba.csv', encoding='utf-8')\n",
    "kor_corpus = pd.concat([kor_corpus, sub_corpus])\n",
    "\n",
    "sub_corpus = pd.read_csv('../data/네이버 해커톤 데이터셋.csv', encoding='utf-8', engine='python')\n",
    "kor_corpus = pd.concat([kor_corpus, sub_corpus])\n",
    "\n",
    "for i in range(10):\n",
    "    sub_corpus = pd.read_csv('../data/AI Hub 한-영 데이터셋[%s].csv' % i, encoding='utf-8', engine='python')\n",
    "    kor_corpus = pd.concat([kor_corpus, sub_corpus])"
   ]
  },
  {
   "cell_type": "markdown",
   "metadata": {},
   "source": [
    "* corpus 크기 확인"
   ]
  },
  {
   "cell_type": "code",
   "execution_count": 3,
   "metadata": {},
   "outputs": [
    {
     "data": {
      "text/plain": [
       "3048264"
      ]
     },
     "execution_count": 3,
     "metadata": {},
     "output_type": "execute_result"
    }
   ],
   "source": [
    "len(kor_corpus)"
   ]
  },
  {
   "cell_type": "markdown",
   "metadata": {},
   "source": [
    "* 코퍼스 내용 확인"
   ]
  },
  {
   "cell_type": "code",
   "execution_count": 4,
   "metadata": {},
   "outputs": [
    {
     "data": {
      "text/html": [
       "<div>\n",
       "<style scoped>\n",
       "    .dataframe tbody tr th:only-of-type {\n",
       "        vertical-align: middle;\n",
       "    }\n",
       "\n",
       "    .dataframe tbody tr th {\n",
       "        vertical-align: top;\n",
       "    }\n",
       "\n",
       "    .dataframe thead th {\n",
       "        text-align: right;\n",
       "    }\n",
       "</style>\n",
       "<table border=\"1\" class=\"dataframe\">\n",
       "  <thead>\n",
       "    <tr style=\"text-align: right;\">\n",
       "      <th></th>\n",
       "      <th>ko</th>\n",
       "    </tr>\n",
       "  </thead>\n",
       "  <tbody>\n",
       "    <tr>\n",
       "      <th>0</th>\n",
       "      <td>폭설이 내리고 우박, 진눈깨비가 퍼부어도 눈보라가 몰아쳐도 강풍이 불고 비바람이 휘...</td>\n",
       "    </tr>\n",
       "    <tr>\n",
       "      <th>1</th>\n",
       "      <td>우리의 한결같은 심부름꾼 황새 아저씨 가는 길을 그 누가 막으랴!</td>\n",
       "    </tr>\n",
       "    <tr>\n",
       "      <th>2</th>\n",
       "      <td>황새 아저씨를 기다리세요</td>\n",
       "    </tr>\n",
       "    <tr>\n",
       "      <th>3</th>\n",
       "      <td>찾아와 선물을 주실 거예요</td>\n",
       "    </tr>\n",
       "    <tr>\n",
       "      <th>4</th>\n",
       "      <td>가난하든 부자이든 상관이 없답니다</td>\n",
       "    </tr>\n",
       "  </tbody>\n",
       "</table>\n",
       "</div>"
      ],
      "text/plain": [
       "                                                  ko\n",
       "0  폭설이 내리고 우박, 진눈깨비가 퍼부어도 눈보라가 몰아쳐도 강풍이 불고 비바람이 휘...\n",
       "1               우리의 한결같은 심부름꾼 황새 아저씨 가는 길을 그 누가 막으랴!\n",
       "2                                      황새 아저씨를 기다리세요\n",
       "3                                     찾아와 선물을 주실 거예요\n",
       "4                                 가난하든 부자이든 상관이 없답니다"
      ]
     },
     "execution_count": 4,
     "metadata": {},
     "output_type": "execute_result"
    }
   ],
   "source": [
    "kor_corpus.head()"
   ]
  },
  {
   "cell_type": "markdown",
   "metadata": {},
   "source": [
    "* list로 변환 및 shuffle (기존에는 그냥 concatenate 했기 때문에 섞어줌)"
   ]
  },
  {
   "cell_type": "code",
   "execution_count": 5,
   "metadata": {},
   "outputs": [
    {
     "data": {
      "text/plain": [
       "['아직 렉서스 카지노에 있어',\n",
       " '우리는 엄마의 생일 파티를 오늘 밤에 할 예정이에요.',\n",
       " '정부 프로그램이기에 사립 유학 프로그램에 비하면 영어 테스트와 성적을 중시하므로 선발 기준은 높은 편이나 단점보다는 장점이 도드라지게 높은 프로그램이다.',\n",
       " '이것은 첫 번째 지불 전에 연금 1주기의 값입니다.',\n",
       " '서울특별시 관악구청장(이하 “구청장”이라 한다)은 서울특별시 관악구(이하 “구”라 한다) 대형유통기업과 중소유통기업(이하 “유통기업”이라 한다) 간의 균형 있는 발전과 건전한 상거래질서의 유지를 위하여 유통기업이 상생 발전할 수 있는 기반을 조성한다.',\n",
       " '식품의약품안전처는 지난해 8월부터 궐련형 전자담배에 포함된 니코틴과 타르 등 11개 유해성분을 분석한 결과, 벤젠 등 1급 발암물질 5종이 검출됐다고 밝혔다.',\n",
       " '너무 암울한 생각이야',\n",
       " '청와대 개편을 포함한 전면적인 분위기 쇄신이 필요해 보인다.',\n",
       " '성관계 동영상 불법 촬영 및 유포 의혹이 제기된 가수 정준영이 “죄송하고 국민 여러분께 심려 끼쳐드려 죄송하다”며 고개를 숙였다.',\n",
       " '밥을 먹고 난 후에 우리는 가족들과 시간을 보냈습니다.',\n",
       " '그러나 대형출판사들은 여전히 정가제 강화를 주장하고 있습니다.',\n",
       " '사전 신청자 중 선착순 100명을 대상으로 12월 14일 금요일 오후 1시부터 6시까지 서울 강남역 비트캠프 서초지점에서 교육이 진행될 예정이다.',\n",
       " '사연이 알려지자 스페인 베니도름 주민들은 영국 관광객들을 비난하고 나섰다.',\n",
       " '세부 공약으로 ‘성폭력 피해자 보호조치 미흡 시 계약해지 조항 신설’, ‘계약한 사업기관의 성평등·인권 교육 의무화 추진’ 등이 있었다.',\n",
       " '엘라랑 엄마 집에서 지낼 거야',\n",
       " '당신이 만약 다음 주 화요일에 쉰다면 그때 만나자.',\n",
       " '그동안 은행들은 주담대 채권에 대한 깐깐한 건전성 분류 기준 탓에 채무조정보다는 담보권을 조기에 행사하는 것이 유리했다.',\n",
       " '멤버 최성용은 “앞선 배우그룹 선배님들과 큰 차이점이 있다고 하기보다는 앞선 그룹과 멤버수에서 확실히 차이가 난다\"고 밝혔다.',\n",
       " '커스텐 닐슨 미국 국토안보부 장관은 지난 18일 한 토론회에서 “지난 2년간 우리는 북한의 워너크라이 랜섬웨어가 150개 나라에 뿌려지면서 의료 체계가 멈추고, 공장 가동이 중단되는 것을 목격했다\"고 말했다.',\n",
       " '잘 될 것 같아']"
      ]
     },
     "execution_count": 5,
     "metadata": {},
     "output_type": "execute_result"
    }
   ],
   "source": [
    "kor_corpus = list(kor_corpus['ko'])\n",
    "random.shuffle(kor_corpus)\n",
    "kor_corpus[:20]"
   ]
  },
  {
   "cell_type": "markdown",
   "metadata": {},
   "source": [
    "* ( ) 와 같이 괄호 처리된 내용들을 필터링한다. (Speech-To-Text에 사용할 언어모델이기 때문에 괄호 및 괄호 내용은 필요없음)"
   ]
  },
  {
   "cell_type": "code",
   "execution_count": 6,
   "metadata": {},
   "outputs": [],
   "source": [
    "new_corpus = list()\n",
    "flag = False\n",
    "\n",
    "for sentence in kor_corpus:\n",
    "    new_sentence = str()\n",
    "    for ch in sentence:\n",
    "        if ch == '(':\n",
    "            flag = True\n",
    "            continue\n",
    "        elif ch == ')':\n",
    "            flag = False\n",
    "            continue\n",
    "        elif flag == False:\n",
    "            new_sentence += ch\n",
    "        else:\n",
    "            continue\n",
    "            \n",
    "    new_corpus.append(new_sentence)"
   ]
  },
  {
   "cell_type": "markdown",
   "metadata": {},
   "source": [
    "* ()가 잘 필터링 됐는지 확인"
   ]
  },
  {
   "cell_type": "code",
   "execution_count": 7,
   "metadata": {},
   "outputs": [
    {
     "data": {
      "text/plain": [
       "['아직 렉서스 카지노에 있어',\n",
       " '우리는 엄마의 생일 파티를 오늘 밤에 할 예정이에요.',\n",
       " '정부 프로그램이기에 사립 유학 프로그램에 비하면 영어 테스트와 성적을 중시하므로 선발 기준은 높은 편이나 단점보다는 장점이 도드라지게 높은 프로그램이다.',\n",
       " '이것은 첫 번째 지불 전에 연금 1주기의 값입니다.',\n",
       " '서울특별시 관악구청장은 서울특별시 관악구 대형유통기업과 중소유통기업 간의 균형 있는 발전과 건전한 상거래질서의 유지를 위하여 유통기업이 상생 발전할 수 있는 기반을 조성한다.',\n",
       " '식품의약품안전처는 지난해 8월부터 궐련형 전자담배에 포함된 니코틴과 타르 등 11개 유해성분을 분석한 결과, 벤젠 등 1급 발암물질 5종이 검출됐다고 밝혔다.',\n",
       " '너무 암울한 생각이야',\n",
       " '청와대 개편을 포함한 전면적인 분위기 쇄신이 필요해 보인다.',\n",
       " '성관계 동영상 불법 촬영 및 유포 의혹이 제기된 가수 정준영이 “죄송하고 국민 여러분께 심려 끼쳐드려 죄송하다”며 고개를 숙였다.',\n",
       " '밥을 먹고 난 후에 우리는 가족들과 시간을 보냈습니다.',\n",
       " '그러나 대형출판사들은 여전히 정가제 강화를 주장하고 있습니다.',\n",
       " '사전 신청자 중 선착순 100명을 대상으로 12월 14일 금요일 오후 1시부터 6시까지 서울 강남역 비트캠프 서초지점에서 교육이 진행될 예정이다.',\n",
       " '사연이 알려지자 스페인 베니도름 주민들은 영국 관광객들을 비난하고 나섰다.',\n",
       " '세부 공약으로 ‘성폭력 피해자 보호조치 미흡 시 계약해지 조항 신설’, ‘계약한 사업기관의 성평등·인권 교육 의무화 추진’ 등이 있었다.',\n",
       " '엘라랑 엄마 집에서 지낼 거야',\n",
       " '당신이 만약 다음 주 화요일에 쉰다면 그때 만나자.',\n",
       " '그동안 은행들은 주담대 채권에 대한 깐깐한 건전성 분류 기준 탓에 채무조정보다는 담보권을 조기에 행사하는 것이 유리했다.',\n",
       " '멤버 최성용은 “앞선 배우그룹 선배님들과 큰 차이점이 있다고 하기보다는 앞선 그룹과 멤버수에서 확실히 차이가 난다\"고 밝혔다.',\n",
       " '커스텐 닐슨 미국 국토안보부 장관은 지난 18일 한 토론회에서 “지난 2년간 우리는 북한의 워너크라이 랜섬웨어가 150개 나라에 뿌려지면서 의료 체계가 멈추고, 공장 가동이 중단되는 것을 목격했다\"고 말했다.',\n",
       " '잘 될 것 같아']"
      ]
     },
     "execution_count": 7,
     "metadata": {},
     "output_type": "execute_result"
    }
   ],
   "source": [
    "kor_corpus = new_corpus\n",
    "kor_corpus[:20]"
   ]
  },
  {
   "cell_type": "markdown",
   "metadata": {},
   "source": [
    "* 현재 corpus에 어떤 특수문자들이 있는지 확인"
   ]
  },
  {
   "cell_type": "code",
   "execution_count": 8,
   "metadata": {},
   "outputs": [],
   "source": [
    "special_ch = list()\n",
    "\n",
    "for sentence in kor_corpus:\n",
    "    for ch in sentence:\n",
    "        if ch.isdigit() == False and ch.isalpha() == False and ch not in special_ch:\n",
    "            special_ch.append(ch)"
   ]
  },
  {
   "cell_type": "markdown",
   "metadata": {},
   "source": [
    "* corpus에 등장한 특수문자 개수 확인"
   ]
  },
  {
   "cell_type": "code",
   "execution_count": 9,
   "metadata": {},
   "outputs": [
    {
     "data": {
      "text/plain": [
       "209"
      ]
     },
     "execution_count": 9,
     "metadata": {},
     "output_type": "execute_result"
    }
   ],
   "source": [
    "len(special_ch)"
   ]
  },
  {
   "cell_type": "markdown",
   "metadata": {},
   "source": [
    "* 등장한 특수문자를 csv 파일로 저장하여 적절한 발음전사로 매핑"
   ]
  },
  {
   "cell_type": "code",
   "execution_count": 10,
   "metadata": {},
   "outputs": [
    {
     "data": {
      "text/html": [
       "<div>\n",
       "<style scoped>\n",
       "    .dataframe tbody tr th:only-of-type {\n",
       "        vertical-align: middle;\n",
       "    }\n",
       "\n",
       "    .dataframe tbody tr th {\n",
       "        vertical-align: top;\n",
       "    }\n",
       "\n",
       "    .dataframe thead th {\n",
       "        text-align: right;\n",
       "    }\n",
       "</style>\n",
       "<table border=\"1\" class=\"dataframe\">\n",
       "  <thead>\n",
       "    <tr style=\"text-align: right;\">\n",
       "      <th></th>\n",
       "      <th>special</th>\n",
       "      <th>replace</th>\n",
       "    </tr>\n",
       "  </thead>\n",
       "  <tbody>\n",
       "    <tr>\n",
       "      <th>0</th>\n",
       "      <td></td>\n",
       "      <td></td>\n",
       "    </tr>\n",
       "    <tr>\n",
       "      <th>1</th>\n",
       "      <td>.</td>\n",
       "      <td>.</td>\n",
       "    </tr>\n",
       "    <tr>\n",
       "      <th>2</th>\n",
       "      <td>“</td>\n",
       "      <td></td>\n",
       "    </tr>\n",
       "    <tr>\n",
       "      <th>3</th>\n",
       "      <td>\"</td>\n",
       "      <td></td>\n",
       "    </tr>\n",
       "    <tr>\n",
       "      <th>4</th>\n",
       "      <td>-</td>\n",
       "      <td></td>\n",
       "    </tr>\n",
       "  </tbody>\n",
       "</table>\n",
       "</div>"
      ],
      "text/plain": [
       "  special replace\n",
       "0                \n",
       "1       .       .\n",
       "2       “        \n",
       "3       \"        \n",
       "4       -        "
      ]
     },
     "execution_count": 10,
     "metadata": {},
     "output_type": "execute_result"
    }
   ],
   "source": [
    "special_df = pd.read_csv('special.csv', encoding='utf-8')\n",
    "special_df = special_df.fillna('')\n",
    "special_df.head()"
   ]
  },
  {
   "cell_type": "markdown",
   "metadata": {},
   "source": [
    "* special_dict 생성 (special => replace로 변환)"
   ]
  },
  {
   "cell_type": "code",
   "execution_count": 11,
   "metadata": {},
   "outputs": [],
   "source": [
    "special_dict = dict()\n",
    "\n",
    "for (special, replace) in zip(special_df['special'], special_df['replace']):\n",
    "    special_dict[special] = replace\n",
    "\n",
    "special_dict[' '] = ' '"
   ]
  },
  {
   "cell_type": "markdown",
   "metadata": {},
   "source": [
    "* in 연산자로 체크를 위해 list 형식으로 저장"
   ]
  },
  {
   "cell_type": "code",
   "execution_count": 12,
   "metadata": {},
   "outputs": [],
   "source": [
    "specials = list(special_df['special'])\n",
    "replaces = list(special_df['replace'])"
   ]
  },
  {
   "cell_type": "markdown",
   "metadata": {},
   "source": [
    "* 특수문자들을 원하는 발음전사로 변환"
   ]
  },
  {
   "cell_type": "code",
   "execution_count": 13,
   "metadata": {},
   "outputs": [],
   "source": [
    "new_corpus = list()\n",
    "\n",
    "for sentence in kor_corpus:\n",
    "    new_sentence = str()\n",
    "    for ch in sentence:\n",
    "        if ch in specials:\n",
    "            new_sentence += special_dict[ch]\n",
    "        else:\n",
    "            new_sentence += ch\n",
    "            \n",
    "    new_corpus.append(new_sentence)"
   ]
  },
  {
   "cell_type": "markdown",
   "metadata": {},
   "source": [
    "* 특수문자가 적절히 변경되었는지 확인"
   ]
  },
  {
   "cell_type": "code",
   "execution_count": 17,
   "metadata": {},
   "outputs": [
    {
     "data": {
      "text/plain": [
       "['김동윤 광주광역시관광협회장은 광주시민들이 민선7기에 바라는 것은 광주 관광역동성을 찾아 달라는 당부가 아닐까 한다고 전제한 뒤 광주를 상징하는 랜드마크가 필요한 시기가 됐다고 이 교수의 주장에 힘을 실었다.',\n",
       " '다음 지하실!',\n",
       " '먼저 어느 날짜로 변경하시려는지 말씀해 주세요.',\n",
       " '아뇨',\n",
       " '올림픽 메달리스트와 아시안 게임 금메달리스트는 군 복무를 면제받아야 한다고 생각합니다.',\n",
       " '심사의 구체적인 방법 등에 대해서는 서울특별시 강남구 법제사무처리 규칙으로 정한다.',\n",
       " '그는 너무나도 잘생겨서 눈부실 지경이에요.',\n",
       " '랍스타 메뉴가 런치 메뉴에도 있나요? ',\n",
       " '청주 제2순환로를 통해 산업단지 출퇴근이 수월하며 중부고속도로 서청주IC와 경부고속도로 청주IC를 통해 수도권 및 다른 권역으로 쉽게 이동할 수 있다.',\n",
       " '그는 여전히 데드맨 네트워크를 통해',\n",
       " '워싱턴 DC는 과거 1790년대에 국가의 중심이었습니다',\n",
       " '각운동량 보전 법칙은 각운동량이 시간에 대해 일정하다는 것을 말합니다.',\n",
       " '주관부서라 함은 자치법규.중요문서 또는 질의문서 등의 입법 또는 입안에 대한 권한과 책임이 있거나 주민의 조례제정.개폐청구 내용과 관련된 업무를 담당하는 부서를 말한다.',\n",
       " '극장에 매일 가시면 연극을 이해하기 위해 열심히 노력하게 되니 당신 포르투갈 실력이 향상될 거에요 그렇지 않아요?',\n",
       " '사실 친구들 기다리느라 늦었어',\n",
       " '마무리 해주겠나?',\n",
       " '1',\n",
       " '그냥 밀어버려',\n",
       " '지금이라도 공부를 등한시하고 운동에만 매몰될 우려가 큰 정책을 재고하고 최소한의 학교생활에 충실하면서 운동에도 참여하여 소질과 적성을 키우는 정책으로 전환되길 기대한다.',\n",
       " '이 규칙은 인천광역시 미추홀구 청소년 통행금지구역.통행제한구역 지정 및 운영에 관한 조례의 시행에 관하여 필요한 사항을 규정함을 목적으로 한다.']"
      ]
     },
     "execution_count": 17,
     "metadata": {},
     "output_type": "execute_result"
    }
   ],
   "source": [
    "new_corpus[:20]"
   ]
  },
  {
   "cell_type": "markdown",
   "metadata": {},
   "source": [
    "* corpus 업데이트"
   ]
  },
  {
   "cell_type": "code",
   "execution_count": 14,
   "metadata": {},
   "outputs": [],
   "source": [
    "kor_corpus = new_corpus"
   ]
  },
  {
   "cell_type": "markdown",
   "metadata": {},
   "source": [
    "* 알파벳 필터링 (소문자)"
   ]
  },
  {
   "cell_type": "code",
   "execution_count": 19,
   "metadata": {},
   "outputs": [],
   "source": [
    "alphabet = ['a', 'b', 'c', 'd', 'e', 'f', 'g', 'h', 'i', 'j', 'k', 'l', 'm', 'n', 'o', 'p', 'q', 'r', 's', 't', 'u', 'v', 'w', 'x', 'y', 'z']\n",
    "new_corpus = list()\n",
    "\n",
    "for sentence in kor_corpus:\n",
    "    new_sentence = str()\n",
    "    for ch in sentence:\n",
    "        if ch in alphabet:\n",
    "            continue\n",
    "        else:\n",
    "            new_sentence += ch\n",
    "            \n",
    "    new_corpus.append(new_sentence)"
   ]
  },
  {
   "cell_type": "code",
   "execution_count": 20,
   "metadata": {},
   "outputs": [
    {
     "data": {
      "text/plain": [
       "['김동윤 광주광역시관광협회장은 광주시민들이 민선7기에 바라는 것은 광주 관광역동성을 찾아 달라는 당부가 아닐까 한다고 전제한 뒤 광주를 상징하는 랜드마크가 필요한 시기가 됐다고 이 교수의 주장에 힘을 실었다.',\n",
       " '다음 지하실!',\n",
       " '먼저 어느 날짜로 변경하시려는지 말씀해 주세요.',\n",
       " '아뇨',\n",
       " '올림픽 메달리스트와 아시안 게임 금메달리스트는 군 복무를 면제받아야 한다고 생각합니다.',\n",
       " '심사의 구체적인 방법 등에 대해서는 서울특별시 강남구 법제사무처리 규칙으로 정한다.',\n",
       " '그는 너무나도 잘생겨서 눈부실 지경이에요.',\n",
       " '랍스타 메뉴가 런치 메뉴에도 있나요? ',\n",
       " '청주 제2순환로를 통해 산업단지 출퇴근이 수월하며 중부고속도로 서청주IC와 경부고속도로 청주IC를 통해 수도권 및 다른 권역으로 쉽게 이동할 수 있다.',\n",
       " '그는 여전히 데드맨 네트워크를 통해',\n",
       " '워싱턴 DC는 과거 1790년대에 국가의 중심이었습니다',\n",
       " '각운동량 보전 법칙은 각운동량이 시간에 대해 일정하다는 것을 말합니다.',\n",
       " '주관부서라 함은 자치법규.중요문서 또는 질의문서 등의 입법 또는 입안에 대한 권한과 책임이 있거나 주민의 조례제정.개폐청구 내용과 관련된 업무를 담당하는 부서를 말한다.',\n",
       " '극장에 매일 가시면 연극을 이해하기 위해 열심히 노력하게 되니 당신 포르투갈 실력이 향상될 거에요 그렇지 않아요?',\n",
       " '사실 친구들 기다리느라 늦었어',\n",
       " '마무리 해주겠나?',\n",
       " '1',\n",
       " '그냥 밀어버려',\n",
       " '지금이라도 공부를 등한시하고 운동에만 매몰될 우려가 큰 정책을 재고하고 최소한의 학교생활에 충실하면서 운동에도 참여하여 소질과 적성을 키우는 정책으로 전환되길 기대한다.',\n",
       " '이 규칙은 인천광역시 미추홀구 청소년 통행금지구역.통행제한구역 지정 및 운영에 관한 조례의 시행에 관하여 필요한 사항을 규정함을 목적으로 한다.']"
      ]
     },
     "execution_count": 20,
     "metadata": {},
     "output_type": "execute_result"
    }
   ],
   "source": [
    "kor_corpus = new_corpus\n",
    "kor_corpus[:20]"
   ]
  },
  {
   "cell_type": "markdown",
   "metadata": {},
   "source": [
    "* 대문자 필터링 (발음으로 전사 ex) K리그 => 케이리그)"
   ]
  },
  {
   "cell_type": "code",
   "execution_count": 21,
   "metadata": {},
   "outputs": [],
   "source": [
    "new_corpus = list()\n",
    "upper = ['A', 'B', 'C','D','E','F','G','H','I','J','K','L','M','N','O','P','Q','R','S','T','U','V','W','X','Y','Z']\n",
    "upper_dict = {'A' : '에이', 'B' : '비', 'C' : '씨','D' : '디','E' : '이','F' : '에프','G' : '쥐',\n",
    "              'H' : '에이취','I' : '아이','J' : '제이','K' : '케이','L' : '엘','M' : '엠','N' : '엔',\n",
    "              'O' : '오','P' : '피','Q' : '큐','R' : '알','S' : '에스','T' : '티','U' : '유','V' : '브이','W' : '떠블유',\n",
    "              'X' : '엑스','Y' : '와이','Z' : '지'}\n",
    "\n",
    "for sentence in kor_corpus:\n",
    "    new_sentence = str()\n",
    "    for idx, ch in enumerate(sentence):\n",
    "        if ch in upper:\n",
    "            if idx == 0 and (idx == len(sentence) - 1 or sentence[idx + 1] == ' '):\n",
    "                continue\n",
    "                \n",
    "            elif idx != 0 and idx < len(sentence) - 1 and sentence[idx + 1] == ' ' and sentence[idx - 1] == ' ':\n",
    "                continue\n",
    "                \n",
    "            elif idx != 0 and sentence[idx -1] == ' ' and idx + 1 == len(sentence):\n",
    "                continue\n",
    "                \n",
    "            else:\n",
    "                new_sentence += upper_dict[ch]\n",
    "            \n",
    "        else:\n",
    "            new_sentence += ch\n",
    "            \n",
    "    new_corpus.append(new_sentence)"
   ]
  },
  {
   "cell_type": "code",
   "execution_count": 22,
   "metadata": {},
   "outputs": [
    {
     "data": {
      "text/plain": [
       "['김동윤 광주광역시관광협회장은 광주시민들이 민선7기에 바라는 것은 광주 관광역동성을 찾아 달라는 당부가 아닐까 한다고 전제한 뒤 광주를 상징하는 랜드마크가 필요한 시기가 됐다고 이 교수의 주장에 힘을 실었다.',\n",
       " '다음 지하실!',\n",
       " '먼저 어느 날짜로 변경하시려는지 말씀해 주세요.',\n",
       " '아뇨',\n",
       " '올림픽 메달리스트와 아시안 게임 금메달리스트는 군 복무를 면제받아야 한다고 생각합니다.',\n",
       " '심사의 구체적인 방법 등에 대해서는 서울특별시 강남구 법제사무처리 규칙으로 정한다.',\n",
       " '그는 너무나도 잘생겨서 눈부실 지경이에요.',\n",
       " '랍스타 메뉴가 런치 메뉴에도 있나요? ',\n",
       " '청주 제2순환로를 통해 산업단지 출퇴근이 수월하며 중부고속도로 서청주아이씨와 경부고속도로 청주아이씨를 통해 수도권 및 다른 권역으로 쉽게 이동할 수 있다.',\n",
       " '그는 여전히 데드맨 네트워크를 통해',\n",
       " '워싱턴 디씨는 과거 1790년대에 국가의 중심이었습니다',\n",
       " '각운동량 보전 법칙은 각운동량이 시간에 대해 일정하다는 것을 말합니다.',\n",
       " '주관부서라 함은 자치법규.중요문서 또는 질의문서 등의 입법 또는 입안에 대한 권한과 책임이 있거나 주민의 조례제정.개폐청구 내용과 관련된 업무를 담당하는 부서를 말한다.',\n",
       " '극장에 매일 가시면 연극을 이해하기 위해 열심히 노력하게 되니 당신 포르투갈 실력이 향상될 거에요 그렇지 않아요?',\n",
       " '사실 친구들 기다리느라 늦었어',\n",
       " '마무리 해주겠나?',\n",
       " '1',\n",
       " '그냥 밀어버려',\n",
       " '지금이라도 공부를 등한시하고 운동에만 매몰될 우려가 큰 정책을 재고하고 최소한의 학교생활에 충실하면서 운동에도 참여하여 소질과 적성을 키우는 정책으로 전환되길 기대한다.',\n",
       " '이 규칙은 인천광역시 미추홀구 청소년 통행금지구역.통행제한구역 지정 및 운영에 관한 조례의 시행에 관하여 필요한 사항을 규정함을 목적으로 한다.']"
      ]
     },
     "execution_count": 22,
     "metadata": {},
     "output_type": "execute_result"
    }
   ],
   "source": [
    "new_corpus[:20]"
   ]
  },
  {
   "cell_type": "markdown",
   "metadata": {},
   "source": [
    "* 데이터셋 업데이트"
   ]
  },
  {
   "cell_type": "code",
   "execution_count": 23,
   "metadata": {},
   "outputs": [],
   "source": [
    "kor_corpus = new_corpus"
   ]
  },
  {
   "cell_type": "markdown",
   "metadata": {},
   "source": [
    "* 긴 공백 => ' '"
   ]
  },
  {
   "cell_type": "code",
   "execution_count": 24,
   "metadata": {},
   "outputs": [],
   "source": [
    "new_corpus = list()\n",
    "\n",
    "for sentence in kor_corpus:\n",
    "    new_sentence = str()\n",
    "    tokens = sentence.split()\n",
    "    for idx, token in enumerate(tokens):\n",
    "        if idx == 0:\n",
    "            new_sentence += token + ' '\n",
    "        elif idx == len(tokens) - 1:\n",
    "            new_sentence += token\n",
    "        else:\n",
    "            new_sentence += token + ' '\n",
    "            \n",
    "    new_corpus.append(new_sentence)"
   ]
  },
  {
   "cell_type": "code",
   "execution_count": 25,
   "metadata": {},
   "outputs": [
    {
     "data": {
      "text/plain": [
       "['김동윤 광주광역시관광협회장은 광주시민들이 민선7기에 바라는 것은 광주 관광역동성을 찾아 달라는 당부가 아닐까 한다고 전제한 뒤 광주를 상징하는 랜드마크가 필요한 시기가 됐다고 이 교수의 주장에 힘을 실었다.',\n",
       " '다음 지하실!',\n",
       " '먼저 어느 날짜로 변경하시려는지 말씀해 주세요.',\n",
       " '아뇨 ',\n",
       " '올림픽 메달리스트와 아시안 게임 금메달리스트는 군 복무를 면제받아야 한다고 생각합니다.',\n",
       " '심사의 구체적인 방법 등에 대해서는 서울특별시 강남구 법제사무처리 규칙으로 정한다.',\n",
       " '그는 너무나도 잘생겨서 눈부실 지경이에요.',\n",
       " '랍스타 메뉴가 런치 메뉴에도 있나요?',\n",
       " '청주 제2순환로를 통해 산업단지 출퇴근이 수월하며 중부고속도로 서청주아이씨와 경부고속도로 청주아이씨를 통해 수도권 및 다른 권역으로 쉽게 이동할 수 있다.',\n",
       " '그는 여전히 데드맨 네트워크를 통해',\n",
       " '워싱턴 디씨는 과거 1790년대에 국가의 중심이었습니다',\n",
       " '각운동량 보전 법칙은 각운동량이 시간에 대해 일정하다는 것을 말합니다.',\n",
       " '주관부서라 함은 자치법규.중요문서 또는 질의문서 등의 입법 또는 입안에 대한 권한과 책임이 있거나 주민의 조례제정.개폐청구 내용과 관련된 업무를 담당하는 부서를 말한다.',\n",
       " '극장에 매일 가시면 연극을 이해하기 위해 열심히 노력하게 되니 당신 포르투갈 실력이 향상될 거에요 그렇지 않아요?',\n",
       " '사실 친구들 기다리느라 늦었어',\n",
       " '마무리 해주겠나?',\n",
       " '1 ',\n",
       " '그냥 밀어버려',\n",
       " '지금이라도 공부를 등한시하고 운동에만 매몰될 우려가 큰 정책을 재고하고 최소한의 학교생활에 충실하면서 운동에도 참여하여 소질과 적성을 키우는 정책으로 전환되길 기대한다.',\n",
       " '이 규칙은 인천광역시 미추홀구 청소년 통행금지구역.통행제한구역 지정 및 운영에 관한 조례의 시행에 관하여 필요한 사항을 규정함을 목적으로 한다.']"
      ]
     },
     "execution_count": 25,
     "metadata": {},
     "output_type": "execute_result"
    }
   ],
   "source": [
    "new_corpus[:20]"
   ]
  },
  {
   "cell_type": "markdown",
   "metadata": {},
   "source": [
    "* 데이터셋 업데이트"
   ]
  },
  {
   "cell_type": "code",
   "execution_count": 26,
   "metadata": {},
   "outputs": [],
   "source": [
    "kor_corpus = new_corpus"
   ]
  },
  {
   "cell_type": "markdown",
   "metadata": {},
   "source": [
    "* 데이터셋 크기 확인"
   ]
  },
  {
   "cell_type": "code",
   "execution_count": 27,
   "metadata": {},
   "outputs": [
    {
     "data": {
      "text/plain": [
       "3048264"
      ]
     },
     "execution_count": 27,
     "metadata": {},
     "output_type": "execute_result"
    }
   ],
   "source": [
    "len(kor_corpus)"
   ]
  },
  {
   "cell_type": "markdown",
   "metadata": {},
   "source": [
    "* 필터링 되면서 빈문자열만 남은 데이터 제외"
   ]
  },
  {
   "cell_type": "code",
   "execution_count": 28,
   "metadata": {},
   "outputs": [],
   "source": [
    "new_corpus = list()\n",
    "\n",
    "for sentence in kor_corpus:\n",
    "    if len(sentence) == 0:\n",
    "        continue\n",
    "    new_corpus.append(sentence)"
   ]
  },
  {
   "cell_type": "markdown",
   "metadata": {},
   "source": [
    "* 약 15,000개 필터링"
   ]
  },
  {
   "cell_type": "code",
   "execution_count": 29,
   "metadata": {},
   "outputs": [
    {
     "data": {
      "text/plain": [
       "3023640"
      ]
     },
     "execution_count": 29,
     "metadata": {},
     "output_type": "execute_result"
    }
   ],
   "source": [
    "len(new_corpus)"
   ]
  },
  {
   "cell_type": "markdown",
   "metadata": {},
   "source": [
    "* 데이터셋 업데이트"
   ]
  },
  {
   "cell_type": "code",
   "execution_count": 30,
   "metadata": {},
   "outputs": [],
   "source": [
    "kor_corpus = new_corpus"
   ]
  },
  {
   "cell_type": "markdown",
   "metadata": {},
   "source": [
    "* 아무지점이나 찍어서 중간확인"
   ]
  },
  {
   "cell_type": "code",
   "execution_count": 32,
   "metadata": {},
   "outputs": [
    {
     "data": {
      "text/plain": [
       "['테드의 아내가 만들었죠',\n",
       " '가톨릭대학교 서울성모병원은 장기육 심뇌혈관센터 순환기내과 교수팀이 올해 경피적 대동맥판막 이식술 100례를 돌파했다고 17일 밝혔다.',\n",
       " '네. ',\n",
       " '이곳은 과거 증심천 기슭을 따라 부곡 한일 태광 광주 광일 보해 중앙식당 등이 있던 곳으로 2009년 쉼터 및 팽나무 가로수길로 조성 완료하였습니다.',\n",
       " '선수들이 상대의 기에 눌려 있다는 생각이 들었다.',\n",
       " '어르신들이 자주 찾는 메뉴가 있나요?',\n",
       " '왜냐하면 엘리자베스가 당신을 원하지 않아서?',\n",
       " '. ',\n",
       " '기사의 제목인 서양 정복은 세계적인 음악 잡지인 롤링 스톤이 케이팝 관련 보도를 하면서 사용했던 표현을 그대로 따 왔다.',\n",
       " '빨리 시작해야돼',\n",
       " '진주남강축제가 유료화 과정을 거치며 경제적 효과가 불어든 것은 물론 지역사회에 갈등의 골도 커졌다는 지적이 나왔다.',\n",
       " '또 수술하는데도 돈이 많이 들어요.',\n",
       " '그래서 혼자 떠난댔잖아',\n",
       " '아무것도 ',\n",
       " '발언 사실이 알려지자 민주당은 긴급히 진화에 나섰다.',\n",
       " '입 다물어',\n",
       " '좋아요 ',\n",
       " '음 괜찮으시면',\n",
       " '실제 지난해 1차 북미정상회담을 개최한 싱가포르는 정상회담 개최를 위해 약 2000만 싱가포르 달러를 투자하고 이의 40배가 넘는 경제적 투자를 받았다.',\n",
       " '그를 얻었습니다!']"
      ]
     },
     "execution_count": 32,
     "metadata": {},
     "output_type": "execute_result"
    }
   ],
   "source": [
    "kor_corpus[6000:6020]"
   ]
  },
  {
   "cell_type": "markdown",
   "metadata": {},
   "source": [
    "* 뒤에가 공백으로 끝나는 문자열 공백 제거"
   ]
  },
  {
   "cell_type": "code",
   "execution_count": 33,
   "metadata": {},
   "outputs": [],
   "source": [
    "for idx, sentence in enumerate(kor_corpus):\n",
    "    if sentence[-1] == ' ':\n",
    "        kor_corpus[idx] = sentence[:-1] "
   ]
  },
  {
   "cell_type": "code",
   "execution_count": 34,
   "metadata": {},
   "outputs": [
    {
     "data": {
      "text/plain": [
       "['테드의 아내가 만들었죠',\n",
       " '가톨릭대학교 서울성모병원은 장기육 심뇌혈관센터 순환기내과 교수팀이 올해 경피적 대동맥판막 이식술 100례를 돌파했다고 17일 밝혔다.',\n",
       " '네.',\n",
       " '이곳은 과거 증심천 기슭을 따라 부곡 한일 태광 광주 광일 보해 중앙식당 등이 있던 곳으로 2009년 쉼터 및 팽나무 가로수길로 조성 완료하였습니다.',\n",
       " '선수들이 상대의 기에 눌려 있다는 생각이 들었다.',\n",
       " '어르신들이 자주 찾는 메뉴가 있나요?',\n",
       " '왜냐하면 엘리자베스가 당신을 원하지 않아서?',\n",
       " '.',\n",
       " '기사의 제목인 서양 정복은 세계적인 음악 잡지인 롤링 스톤이 케이팝 관련 보도를 하면서 사용했던 표현을 그대로 따 왔다.',\n",
       " '빨리 시작해야돼',\n",
       " '진주남강축제가 유료화 과정을 거치며 경제적 효과가 불어든 것은 물론 지역사회에 갈등의 골도 커졌다는 지적이 나왔다.',\n",
       " '또 수술하는데도 돈이 많이 들어요.',\n",
       " '그래서 혼자 떠난댔잖아',\n",
       " '아무것도',\n",
       " '발언 사실이 알려지자 민주당은 긴급히 진화에 나섰다.',\n",
       " '입 다물어',\n",
       " '좋아요',\n",
       " '음 괜찮으시면',\n",
       " '실제 지난해 1차 북미정상회담을 개최한 싱가포르는 정상회담 개최를 위해 약 2000만 싱가포르 달러를 투자하고 이의 40배가 넘는 경제적 투자를 받았다.',\n",
       " '그를 얻었습니다!']"
      ]
     },
     "execution_count": 34,
     "metadata": {},
     "output_type": "execute_result"
    }
   ],
   "source": [
    "kor_corpus[6000:6020]"
   ]
  },
  {
   "cell_type": "markdown",
   "metadata": {},
   "source": [
    "* 현대 데이터셋 크기 확인"
   ]
  },
  {
   "cell_type": "code",
   "execution_count": 35,
   "metadata": {},
   "outputs": [
    {
     "data": {
      "text/plain": [
       "3023640"
      ]
     },
     "execution_count": 35,
     "metadata": {},
     "output_type": "execute_result"
    }
   ],
   "source": [
    "len(kor_corpus)"
   ]
  },
  {
   "cell_type": "markdown",
   "metadata": {},
   "source": [
    "* '?', '!', '.'만 남은 문자열 필터링"
   ]
  },
  {
   "cell_type": "code",
   "execution_count": 36,
   "metadata": {},
   "outputs": [
    {
     "data": {
      "text/plain": [
       "3001793"
      ]
     },
     "execution_count": 36,
     "metadata": {},
     "output_type": "execute_result"
    }
   ],
   "source": [
    "new_corpus = list()\n",
    "\n",
    "for sentence in kor_corpus:\n",
    "    if sentence == '?' or sentence == '!' or sentence == '.':\n",
    "        continue\n",
    "        \n",
    "    else:\n",
    "        new_corpus.append(sentence)\n",
    "        \n",
    "len(new_corpus)"
   ]
  },
  {
   "cell_type": "markdown",
   "metadata": {},
   "source": [
    "* 약 2만개 필터링 후 데이터셋 업데이트"
   ]
  },
  {
   "cell_type": "code",
   "execution_count": 37,
   "metadata": {},
   "outputs": [],
   "source": [
    "kor_corpus = new_corpus"
   ]
  },
  {
   "cell_type": "markdown",
   "metadata": {},
   "source": [
    "* import **KoNPron** (Korean Number Pronunciaion) => 숫자를 발음전사로 변환"
   ]
  },
  {
   "cell_type": "code",
   "execution_count": 9,
   "metadata": {},
   "outputs": [],
   "source": [
    "from konpron import KoNPron\n",
    "\n",
    "kpr = KoNPron()"
   ]
  },
  {
   "cell_type": "markdown",
   "metadata": {},
   "source": [
    "* **KoNPron** 테스트"
   ]
  },
  {
   "cell_type": "code",
   "execution_count": 21,
   "metadata": {},
   "outputs": [
    {
     "name": "stdout",
     "output_type": "stream",
     "text": [
      "천이백삼십사랑, 십이 점 삼사랑, 천이백삼십사랑, 백이십삼의 사 승랑, 일의 이백삼십사 승랑, 일 점 이삼의 사 승랑, 십이 점 삼의 사 승랑, 일이삼사랑, 이억 구천삼백삼십만 천삼백 점 오오삼영일의 사 승\n"
     ]
    }
   ],
   "source": [
    "sentence = \"1234랑, 12.34랑, 1,234랑, 123^4랑, 1²³⁴랑, 1.23^4랑, 12.3⁴랑, 12·34랑, 293301300.55301⁴\"\n",
    "\n",
    "ret = kpr.read(kpr.preprocess(kpr.detect(sentence)))\n",
    "if ret is not None:\n",
    "    print(ret)"
   ]
  },
  {
   "cell_type": "markdown",
   "metadata": {},
   "source": [
    "* **KoNPron**으로 숫자 => 발음전사로 변환"
   ]
  },
  {
   "cell_type": "code",
   "execution_count": 26,
   "metadata": {},
   "outputs": [
    {
     "name": "stdout",
     "output_type": "stream",
     "text": [
      "트래킹 번호 420076049241990172380904740935로 택배가 나에게 18일에 도착했는데 책이 1권만 있습니다.\n"
     ]
    },
    {
     "data": {
      "text/plain": [
       "3001787"
      ]
     },
     "execution_count": 26,
     "metadata": {},
     "output_type": "execute_result"
    }
   ],
   "source": [
    "new_corpus = list()\n",
    "count = 0\n",
    "\n",
    "for sentence in corpus:\n",
    "    try:\n",
    "        ret = kpr.read(kpr.preprocess(kpr.detect(sentence)))\n",
    "        if ret is not None:\n",
    "            new_corpus.append(ret)\n",
    "            count += 1\n",
    "        else:\n",
    "            new_corpus.append(sentence)\n",
    "    except:\n",
    "        print(sentence)\n",
    "        \n",
    "count"
   ]
  },
  {
   "cell_type": "code",
   "execution_count": 47,
   "metadata": {},
   "outputs": [],
   "source": [
    "kor_corpus = new_corpus"
   ]
  },
  {
   "cell_type": "markdown",
   "metadata": {},
   "source": [
    "* 음향모델에서 사용하는 2,040개의 문자 레이블로만 이루어진 문장 수 확인"
   ]
  },
  {
   "cell_type": "code",
   "execution_count": 48,
   "metadata": {},
   "outputs": [
    {
     "name": "stdout",
     "output_type": "stream",
     "text": [
      "2992468\n"
     ]
    }
   ],
   "source": [
    "acoustic_labels = list(pd.read_csv('train_labels.csv')['char'])\n",
    "count = 0\n",
    "\n",
    "for sentence in kor_corpus:\n",
    "    for ch in sentence:\n",
    "        if ch not in acoustic_labels:\n",
    "            count += 1\n",
    "            break\n",
    "\n",
    "print(len(kor_corpus) - count)"
   ]
  },
  {
   "cell_type": "markdown",
   "metadata": {},
   "source": [
    "* 데이터셋 피클로 저장"
   ]
  },
  {
   "cell_type": "code",
   "execution_count": 39,
   "metadata": {},
   "outputs": [],
   "source": [
    "import pickle\n",
    "\n",
    "with open('kor_corpus.bin', 'wb') as f:\n",
    "    pickle.dump(kor_corpus, f)"
   ]
  },
  {
   "cell_type": "code",
   "execution_count": null,
   "metadata": {},
   "outputs": [],
   "source": []
  }
 ],
 "metadata": {
  "kernelspec": {
   "display_name": "Python 3",
   "language": "python",
   "name": "python3"
  },
  "language_info": {
   "codemirror_mode": {
    "name": "ipython",
    "version": 3
   },
   "file_extension": ".py",
   "mimetype": "text/x-python",
   "name": "python",
   "nbconvert_exporter": "python",
   "pygments_lexer": "ipython3",
   "version": "3.7.1"
  }
 },
 "nbformat": 4,
 "nbformat_minor": 2
}
