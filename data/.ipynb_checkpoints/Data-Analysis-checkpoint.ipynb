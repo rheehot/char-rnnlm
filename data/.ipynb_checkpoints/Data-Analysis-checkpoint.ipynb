{
 "cells": [
  {
   "cell_type": "code",
   "execution_count": 1,
   "metadata": {},
   "outputs": [],
   "source": [
    "import pickle\n",
    "import pandas as pd\n",
    "import matplotlib.pyplot as plt\n",
    "import seaborn as sns"
   ]
  },
  {
   "cell_type": "code",
   "execution_count": 2,
   "metadata": {},
   "outputs": [
    {
     "data": {
      "text/html": [
       "<div>\n",
       "<style scoped>\n",
       "    .dataframe tbody tr th:only-of-type {\n",
       "        vertical-align: middle;\n",
       "    }\n",
       "\n",
       "    .dataframe tbody tr th {\n",
       "        vertical-align: top;\n",
       "    }\n",
       "\n",
       "    .dataframe thead th {\n",
       "        text-align: right;\n",
       "    }\n",
       "</style>\n",
       "<table border=\"1\" class=\"dataframe\">\n",
       "  <thead>\n",
       "    <tr style=\"text-align: right;\">\n",
       "      <th></th>\n",
       "      <th>ko</th>\n",
       "      <th>id</th>\n",
       "    </tr>\n",
       "  </thead>\n",
       "  <tbody>\n",
       "    <tr>\n",
       "      <th>0</th>\n",
       "      <td>어디 보자...</td>\n",
       "      <td>8 190 0 42 45 1 1 1</td>\n",
       "    </tr>\n",
       "    <tr>\n",
       "      <th>1</th>\n",
       "      <td>칠대 왕국 종족 중에 오크는 처음 듣는다</td>\n",
       "      <td>318 50 0 576 170 0 363 401 0 129 17 0 57 238 4...</td>\n",
       "    </tr>\n",
       "    <tr>\n",
       "      <th>2</th>\n",
       "      <td>이번에 새로 개시할 제품 계열은 광고 모델을 계약해서 홍보하는 게 좋겠어요.</td>\n",
       "      <td>3 93 17 0 260 38 0 168 47 91 0 43 467 0 142 22...</td>\n",
       "    </tr>\n",
       "    <tr>\n",
       "      <th>3</th>\n",
       "      <td>라니스터 가의</td>\n",
       "      <td>32 20 79 162 0 6 130</td>\n",
       "    </tr>\n",
       "    <tr>\n",
       "      <th>4</th>\n",
       "      <td>별 희한한 생각이 다 떠오르곤 하죠</td>\n",
       "      <td>233 0 439 27 27 0 71 100 3 0 15 0 512 57 114 5...</td>\n",
       "    </tr>\n",
       "    <tr>\n",
       "      <th>...</th>\n",
       "      <td>...</td>\n",
       "      <td>...</td>\n",
       "    </tr>\n",
       "    <tr>\n",
       "      <th>2992115</th>\n",
       "      <td>네 오늘 아침 범죄현장에 있었죠</td>\n",
       "      <td>96 0 57 275 0 5 373 0 560 700 350 109 17 0 26 ...</td>\n",
       "    </tr>\n",
       "    <tr>\n",
       "      <th>2992116</th>\n",
       "      <td>머시</td>\n",
       "      <td>235 47</td>\n",
       "    </tr>\n",
       "    <tr>\n",
       "      <th>2992117</th>\n",
       "      <td>눈은 풀려 있었고 입에선 연신 침이 흘러 나왔다.</td>\n",
       "      <td>351 23 0 449 108 0 26 62 7 0 219 17 194 0 147 ...</td>\n",
       "    </tr>\n",
       "    <tr>\n",
       "      <th>2992118</th>\n",
       "      <td>나는 좋은 선생님이야.</td>\n",
       "      <td>13 4 0 94 23 0 194 71 216 3 25 1</td>\n",
       "    </tr>\n",
       "    <tr>\n",
       "      <th>2992119</th>\n",
       "      <td>다만 취업 준비를 지원한다는 제도 성격을 고려해 유흥.도박.성인 용품 등 용도나 고...</td>\n",
       "      <td>15 46 0 331 207 0 245 122 55 0 10 82 27 15 4 0...</td>\n",
       "    </tr>\n",
       "  </tbody>\n",
       "</table>\n",
       "<p>2992120 rows × 2 columns</p>\n",
       "</div>"
      ],
      "text/plain": [
       "                                                        ko  \\\n",
       "0                                                 어디 보자...   \n",
       "1                                   칠대 왕국 종족 중에 오크는 처음 듣는다   \n",
       "2               이번에 새로 개시할 제품 계열은 광고 모델을 계약해서 홍보하는 게 좋겠어요.   \n",
       "3                                                  라니스터 가의   \n",
       "4                                      별 희한한 생각이 다 떠오르곤 하죠   \n",
       "...                                                    ...   \n",
       "2992115                                  네 오늘 아침 범죄현장에 있었죠   \n",
       "2992116                                                 머시   \n",
       "2992117                        눈은 풀려 있었고 입에선 연신 침이 흘러 나왔다.   \n",
       "2992118                                       나는 좋은 선생님이야.   \n",
       "2992119  다만 취업 준비를 지원한다는 제도 성격을 고려해 유흥.도박.성인 용품 등 용도나 고...   \n",
       "\n",
       "                                                        id  \n",
       "0                                     8 190 0 42 45 1 1 1   \n",
       "1        318 50 0 576 170 0 363 401 0 129 17 0 57 238 4...  \n",
       "2        3 93 17 0 260 38 0 168 47 91 0 43 467 0 142 22...  \n",
       "3                                    32 20 79 162 0 6 130   \n",
       "4        233 0 439 27 27 0 71 100 3 0 15 0 512 57 114 5...  \n",
       "...                                                    ...  \n",
       "2992115  96 0 57 275 0 5 373 0 560 700 350 109 17 0 26 ...  \n",
       "2992116                                            235 47   \n",
       "2992117  351 23 0 449 108 0 26 62 7 0 219 17 194 0 147 ...  \n",
       "2992118                  13 4 0 94 23 0 194 71 216 3 25 1   \n",
       "2992119  15 46 0 331 207 0 245 122 55 0 10 82 27 15 4 0...  \n",
       "\n",
       "[2992120 rows x 2 columns]"
      ]
     },
     "execution_count": 2,
     "metadata": {},
     "output_type": "execute_result"
    }
   ],
   "source": [
    "corpus_df = None\n",
    "\n",
    "with open('corpus_df.bin', 'rb') as f:\n",
    "    corpus_df = pickle.load(f)\n",
    "    \n",
    "corpus_df"
   ]
  },
  {
   "cell_type": "code",
   "execution_count": 4,
   "metadata": {},
   "outputs": [],
   "source": [
    "targets = corpus_df['id']\n",
    "target_lengths = list()\n",
    "\n",
    "for target in targets:\n",
    "    tokens = target.split()\n",
    "    target_lengths.append(len(tokens))"
   ]
  },
  {
   "cell_type": "code",
   "execution_count": 5,
   "metadata": {},
   "outputs": [
    {
     "data": {
      "image/png": "[encoded data removed]",
      "text/plain": [
       "<Figure size 432x288 with 1 Axes>"
      ]
     },
     "metadata": {
      "needs_background": "light"
     },
     "output_type": "display_data"
    }
   ],
   "source": [
    "sns.boxplot(target_lengths)\n",
    "plt.title('Language Model Corpus length Analysis', fontsize='x-large')\n",
    "plt.xlabel('Sequence Length', fontsize='large')\n",
    "plt.show()"
   ]
  },
  {
   "cell_type": "code",
   "execution_count": 6,
   "metadata": {},
   "outputs": [],
   "source": [
    "sentences = corpus_df['ko']\n",
    "\n",
    "new_sentences = list()\n",
    "new_targets = list()\n",
    "\n",
    "for (sentence, target) in zip(sentences, targets):\n",
    "    if len(target.split()) < 151:\n",
    "        new_sentences.append(sentence)\n",
    "        new_targets.append(target)"
   ]
  },
  {
   "cell_type": "code",
   "execution_count": 8,
   "metadata": {},
   "outputs": [
    {
     "name": "stdout",
     "output_type": "stream",
     "text": [
      "2991682\n",
      "2991682\n"
     ]
    }
   ],
   "source": [
    "print(len(new_sentences))\n",
    "print(len(new_targets))"
   ]
  },
  {
   "cell_type": "code",
   "execution_count": 11,
   "metadata": {},
   "outputs": [
    {
     "data": {
      "text/html": [
       "<div>\n",
       "<style scoped>\n",
       "    .dataframe tbody tr th:only-of-type {\n",
       "        vertical-align: middle;\n",
       "    }\n",
       "\n",
       "    .dataframe tbody tr th {\n",
       "        vertical-align: top;\n",
       "    }\n",
       "\n",
       "    .dataframe thead th {\n",
       "        text-align: right;\n",
       "    }\n",
       "</style>\n",
       "<table border=\"1\" class=\"dataframe\">\n",
       "  <thead>\n",
       "    <tr style=\"text-align: right;\">\n",
       "      <th></th>\n",
       "      <th>ko</th>\n",
       "      <th>id</th>\n",
       "    </tr>\n",
       "  </thead>\n",
       "  <tbody>\n",
       "    <tr>\n",
       "      <th>0</th>\n",
       "      <td>어디 보자...</td>\n",
       "      <td>8 190 0 42 45 1 1 1</td>\n",
       "    </tr>\n",
       "    <tr>\n",
       "      <th>1</th>\n",
       "      <td>칠대 왕국 종족 중에 오크는 처음 듣는다</td>\n",
       "      <td>318 50 0 576 170 0 363 401 0 129 17 0 57 238 4...</td>\n",
       "    </tr>\n",
       "    <tr>\n",
       "      <th>2</th>\n",
       "      <td>이번에 새로 개시할 제품 계열은 광고 모델을 계약해서 홍보하는 게 좋겠어요.</td>\n",
       "      <td>3 93 17 0 260 38 0 168 47 91 0 43 467 0 142 22...</td>\n",
       "    </tr>\n",
       "    <tr>\n",
       "      <th>3</th>\n",
       "      <td>라니스터 가의</td>\n",
       "      <td>32 20 79 162 0 6 130</td>\n",
       "    </tr>\n",
       "    <tr>\n",
       "      <th>4</th>\n",
       "      <td>별 희한한 생각이 다 떠오르곤 하죠</td>\n",
       "      <td>233 0 439 27 27 0 71 100 3 0 15 0 512 57 114 5...</td>\n",
       "    </tr>\n",
       "  </tbody>\n",
       "</table>\n",
       "</div>"
      ],
      "text/plain": [
       "                                           ko  \\\n",
       "0                                    어디 보자...   \n",
       "1                      칠대 왕국 종족 중에 오크는 처음 듣는다   \n",
       "2  이번에 새로 개시할 제품 계열은 광고 모델을 계약해서 홍보하는 게 좋겠어요.   \n",
       "3                                     라니스터 가의   \n",
       "4                         별 희한한 생각이 다 떠오르곤 하죠   \n",
       "\n",
       "                                                  id  \n",
       "0                               8 190 0 42 45 1 1 1   \n",
       "1  318 50 0 576 170 0 363 401 0 129 17 0 57 238 4...  \n",
       "2  3 93 17 0 260 38 0 168 47 91 0 43 467 0 142 22...  \n",
       "3                              32 20 79 162 0 6 130   \n",
       "4  233 0 439 27 27 0 71 100 3 0 15 0 512 57 114 5...  "
      ]
     },
     "execution_count": 11,
     "metadata": {},
     "output_type": "execute_result"
    }
   ],
   "source": [
    "corpus_dict = {'ko' : new_sentences,\n",
    "               'id' : new_targets}\n",
    "corpus_df = pd.DataFrame(corpus_dict)\n",
    "corpus_df.head()"
   ]
  },
  {
   "cell_type": "code",
   "execution_count": 12,
   "metadata": {},
   "outputs": [],
   "source": [
    "with open('corpus_df.bin', 'wb') as f:\n",
    "    pickle.dump(corpus_df, f)"
   ]
  },
  {
   "cell_type": "code",
   "execution_count": null,
   "metadata": {},
   "outputs": [],
   "source": []
  }
 ],
 "metadata": {
  "kernelspec": {
   "display_name": "Python 3",
   "language": "python",
   "name": "python3"
  },
  "language_info": {
   "codemirror_mode": {
    "name": "ipython",
    "version": 3
   },
   "file_extension": ".py",
   "mimetype": "text/x-python",
   "name": "python",
   "nbconvert_exporter": "python",
   "pygments_lexer": "ipython3",
   "version": "3.7.6"
  }
 },
 "nbformat": 4,
 "nbformat_minor": 4
}
