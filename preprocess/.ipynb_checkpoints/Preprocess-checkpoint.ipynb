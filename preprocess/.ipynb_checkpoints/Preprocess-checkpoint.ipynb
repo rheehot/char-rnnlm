{
 "cells": [
  {
   "cell_type": "markdown",
   "metadata": {},
   "source": [
    "# Preprocess for Language Model"
   ]
  },
  {
   "cell_type": "markdown",
   "metadata": {},
   "source": [
    "수집한 Corpus를 통합하여 일련의 규칙으로 전처리"
   ]
  },
  {
   "cell_type": "markdown",
   "metadata": {},
   "source": [
    "* 필요한 라이브러리 import"
   ]
  },
  {
   "cell_type": "code",
   "execution_count": 1,
   "metadata": {},
   "outputs": [],
   "source": [
    "import pandas as pd\n",
    "import numpy as np\n",
    "import random\n",
    "import pickle"
   ]
  },
  {
   "cell_type": "markdown",
   "metadata": {},
   "source": [
    "* 수집한 corpus 통합"
   ]
  },
  {
   "cell_type": "code",
   "execution_count": 2,
   "metadata": {},
   "outputs": [],
   "source": [
    "kor_corpus = pd.read_csv('../data/OpenSubtitles.csv', encoding='utf-8')\n",
    "sub_corpus = pd.read_csv('../data/new_kor.csv', encoding='cp949')\n",
    "kor_corpus = pd.concat([kor_corpus, sub_corpus])\n",
    "\n",
    "sub_corpus = pd.read_csv('../data/tatoeba.csv', encoding='utf-8')\n",
    "kor_corpus = pd.concat([kor_corpus, sub_corpus])\n",
    "\n",
    "sub_corpus = pd.read_csv('../data/네이버 해커톤 데이터셋.csv', encoding='utf-8', engine='python')\n",
    "kor_corpus = pd.concat([kor_corpus, sub_corpus])\n",
    "\n",
    "for i in range(10):\n",
    "    sub_corpus = pd.read_csv('../data/AI Hub 한-영 데이터셋[%s].csv' % i, encoding='utf-8', engine='python')\n",
    "    kor_corpus = pd.concat([kor_corpus, sub_corpus])"
   ]
  },
  {
   "cell_type": "markdown",
   "metadata": {},
   "source": [
    "* corpus 크기 확인"
   ]
  },
  {
   "cell_type": "code",
   "execution_count": 3,
   "metadata": {},
   "outputs": [
    {
     "data": {
      "text/plain": [
       "3048264"
      ]
     },
     "execution_count": 3,
     "metadata": {},
     "output_type": "execute_result"
    }
   ],
   "source": [
    "len(kor_corpus)"
   ]
  },
  {
   "cell_type": "markdown",
   "metadata": {},
   "source": [
    "* 코퍼스 내용 확인"
   ]
  },
  {
   "cell_type": "code",
   "execution_count": 4,
   "metadata": {},
   "outputs": [
    {
     "data": {
      "text/html": [
       "<div>\n",
       "<style scoped>\n",
       "    .dataframe tbody tr th:only-of-type {\n",
       "        vertical-align: middle;\n",
       "    }\n",
       "\n",
       "    .dataframe tbody tr th {\n",
       "        vertical-align: top;\n",
       "    }\n",
       "\n",
       "    .dataframe thead th {\n",
       "        text-align: right;\n",
       "    }\n",
       "</style>\n",
       "<table border=\"1\" class=\"dataframe\">\n",
       "  <thead>\n",
       "    <tr style=\"text-align: right;\">\n",
       "      <th></th>\n",
       "      <th>ko</th>\n",
       "    </tr>\n",
       "  </thead>\n",
       "  <tbody>\n",
       "    <tr>\n",
       "      <th>0</th>\n",
       "      <td>폭설이 내리고 우박, 진눈깨비가 퍼부어도 눈보라가 몰아쳐도 강풍이 불고 비바람이 휘...</td>\n",
       "    </tr>\n",
       "    <tr>\n",
       "      <th>1</th>\n",
       "      <td>우리의 한결같은 심부름꾼 황새 아저씨 가는 길을 그 누가 막으랴!</td>\n",
       "    </tr>\n",
       "    <tr>\n",
       "      <th>2</th>\n",
       "      <td>황새 아저씨를 기다리세요</td>\n",
       "    </tr>\n",
       "    <tr>\n",
       "      <th>3</th>\n",
       "      <td>찾아와 선물을 주실 거예요</td>\n",
       "    </tr>\n",
       "    <tr>\n",
       "      <th>4</th>\n",
       "      <td>가난하든 부자이든 상관이 없답니다</td>\n",
       "    </tr>\n",
       "  </tbody>\n",
       "</table>\n",
       "</div>"
      ],
      "text/plain": [
       "                                                  ko\n",
       "0  폭설이 내리고 우박, 진눈깨비가 퍼부어도 눈보라가 몰아쳐도 강풍이 불고 비바람이 휘...\n",
       "1               우리의 한결같은 심부름꾼 황새 아저씨 가는 길을 그 누가 막으랴!\n",
       "2                                      황새 아저씨를 기다리세요\n",
       "3                                     찾아와 선물을 주실 거예요\n",
       "4                                 가난하든 부자이든 상관이 없답니다"
      ]
     },
     "execution_count": 4,
     "metadata": {},
     "output_type": "execute_result"
    }
   ],
   "source": [
    "kor_corpus.head()"
   ]
  },
  {
   "cell_type": "markdown",
   "metadata": {},
   "source": [
    "* list로 변환 및 shuffle (기존에는 그냥 concatenate 했기 때문에 섞어줌)"
   ]
  },
  {
   "cell_type": "code",
   "execution_count": 5,
   "metadata": {},
   "outputs": [
    {
     "data": {
      "text/plain": [
       "['어디 보자...',\n",
       " '7대 왕국 종족 중에 오크는 처음 듣는다',\n",
       " '이번에 새로 개시할 제품 계열은 광고 모델을 계약해서 홍보하는 게 좋겠어요.',\n",
       " '라니스터 가의',\n",
       " '별 희한한 생각이 다 떠오르곤 하죠',\n",
       " '아!',\n",
       " '회의 전에 마실 것 좀 드릴까요? 커피와 차가 있습니다.',\n",
       " '나는 그런 일에는 전혀 흥미가 없어요.',\n",
       " '일자리가 있고 제대로 된 회사가 있다면 늘 사람들이 붐비고 활력이 넘치는 도시로 자리매김할 수 있다.',\n",
       " '카카오가 많이 함유된 다크 초콜릿이 더 좋다는 것을 잊지 말자.',\n",
       " '비오 13세는 누구인가?',\n",
       " '네, 어..',\n",
       " '치밀한 사람이긴 하지만...',\n",
       " '계속 절 따라오셨죠',\n",
       " '세계 4위 특허출원 강국이지만 지식재산 심사 품질과 보호 수준이 낮아 가치를 제대로 인정받지 못하고 있다.',\n",
       " '나는 전부터 이 학교를 잘 알고 있었어.',\n",
       " '-뭔가 꿍꿍이를 꾸미는게 틀림없어',\n",
       " '어쩔 수 없이 과학 수업에 늦었습니다.',\n",
       " '가르시아 에르난데스, 토니 그란데, 하비에르 미냐노 등 축구대표팀의 외국인 코치들이 8일 오후 (현지시간) 오스트리아 레오강의 대표팀 숙소에서 인터뷰에 응하고있다.',\n",
       " '검찰은 “(증인신문 내용이) 다 녹음 됐으니까 (이 전 대통령이 한 말에 대해) 따지려면 따져볼 수 있다”고 말하기도 했다.']"
      ]
     },
     "execution_count": 5,
     "metadata": {},
     "output_type": "execute_result"
    }
   ],
   "source": [
    "kor_corpus = list(kor_corpus['ko'])\n",
    "random.shuffle(kor_corpus)\n",
    "kor_corpus[:20]"
   ]
  },
  {
   "cell_type": "markdown",
   "metadata": {},
   "source": [
    "* ( ) 와 같이 괄호 처리된 내용들을 필터링한다. (Speech-To-Text에 사용할 언어모델이기 때문에 괄호 및 괄호 내용은 필요없음)"
   ]
  },
  {
   "cell_type": "code",
   "execution_count": 6,
   "metadata": {},
   "outputs": [],
   "source": [
    "new_corpus = list()\n",
    "flag = False\n",
    "\n",
    "for sentence in kor_corpus:\n",
    "    new_sentence = str()\n",
    "    for ch in sentence:\n",
    "        if ch == '(':\n",
    "            flag = True\n",
    "            continue\n",
    "        elif ch == ')':\n",
    "            flag = False\n",
    "            continue\n",
    "        elif flag == False:\n",
    "            new_sentence += ch\n",
    "        else:\n",
    "            continue\n",
    "            \n",
    "    new_corpus.append(new_sentence)"
   ]
  },
  {
   "cell_type": "markdown",
   "metadata": {},
   "source": [
    "* ()가 잘 필터링 됐는지 확인"
   ]
  },
  {
   "cell_type": "code",
   "execution_count": 7,
   "metadata": {},
   "outputs": [
    {
     "data": {
      "text/plain": [
       "['어디 보자...',\n",
       " '7대 왕국 종족 중에 오크는 처음 듣는다',\n",
       " '이번에 새로 개시할 제품 계열은 광고 모델을 계약해서 홍보하는 게 좋겠어요.',\n",
       " '라니스터 가의',\n",
       " '별 희한한 생각이 다 떠오르곤 하죠',\n",
       " '아!',\n",
       " '회의 전에 마실 것 좀 드릴까요? 커피와 차가 있습니다.',\n",
       " '나는 그런 일에는 전혀 흥미가 없어요.',\n",
       " '일자리가 있고 제대로 된 회사가 있다면 늘 사람들이 붐비고 활력이 넘치는 도시로 자리매김할 수 있다.',\n",
       " '카카오가 많이 함유된 다크 초콜릿이 더 좋다는 것을 잊지 말자.',\n",
       " '비오 13세는 누구인가?',\n",
       " '네, 어..',\n",
       " '치밀한 사람이긴 하지만...',\n",
       " '계속 절 따라오셨죠',\n",
       " '세계 4위 특허출원 강국이지만 지식재산 심사 품질과 보호 수준이 낮아 가치를 제대로 인정받지 못하고 있다.',\n",
       " '나는 전부터 이 학교를 잘 알고 있었어.',\n",
       " '-뭔가 꿍꿍이를 꾸미는게 틀림없어',\n",
       " '어쩔 수 없이 과학 수업에 늦었습니다.',\n",
       " '가르시아 에르난데스, 토니 그란데, 하비에르 미냐노 등 축구대표팀의 외국인 코치들이 8일 오후  오스트리아 레오강의 대표팀 숙소에서 인터뷰에 응하고있다.',\n",
       " '검찰은 “ 다 녹음 됐으니까  따지려면 따져볼 수 있다”고 말하기도 했다.']"
      ]
     },
     "execution_count": 7,
     "metadata": {},
     "output_type": "execute_result"
    }
   ],
   "source": [
    "kor_corpus = new_corpus\n",
    "kor_corpus[:20]"
   ]
  },
  {
   "cell_type": "markdown",
   "metadata": {},
   "source": [
    "* 현재 corpus에 어떤 특수문자들이 있는지 확인"
   ]
  },
  {
   "cell_type": "code",
   "execution_count": 8,
   "metadata": {},
   "outputs": [],
   "source": [
    "special_ch = list()\n",
    "\n",
    "for sentence in kor_corpus:\n",
    "    for ch in sentence:\n",
    "        if ch.isdigit() == False and ch.isalpha() == False and ch not in special_ch:\n",
    "            special_ch.append(ch)"
   ]
  },
  {
   "cell_type": "markdown",
   "metadata": {},
   "source": [
    "* corpus에 등장한 특수문자 개수 확인"
   ]
  },
  {
   "cell_type": "code",
   "execution_count": 9,
   "metadata": {},
   "outputs": [
    {
     "data": {
      "text/plain": [
       "209"
      ]
     },
     "execution_count": 9,
     "metadata": {},
     "output_type": "execute_result"
    }
   ],
   "source": [
    "len(special_ch)"
   ]
  },
  {
   "cell_type": "markdown",
   "metadata": {},
   "source": [
    "* 등장한 특수문자를 csv 파일로 저장하여 적절한 발음전사로 매핑"
   ]
  },
  {
   "cell_type": "code",
   "execution_count": 10,
   "metadata": {},
   "outputs": [
    {
     "data": {
      "text/html": [
       "<div>\n",
       "<style scoped>\n",
       "    .dataframe tbody tr th:only-of-type {\n",
       "        vertical-align: middle;\n",
       "    }\n",
       "\n",
       "    .dataframe tbody tr th {\n",
       "        vertical-align: top;\n",
       "    }\n",
       "\n",
       "    .dataframe thead th {\n",
       "        text-align: right;\n",
       "    }\n",
       "</style>\n",
       "<table border=\"1\" class=\"dataframe\">\n",
       "  <thead>\n",
       "    <tr style=\"text-align: right;\">\n",
       "      <th></th>\n",
       "      <th>special</th>\n",
       "      <th>replace</th>\n",
       "    </tr>\n",
       "  </thead>\n",
       "  <tbody>\n",
       "    <tr>\n",
       "      <th>0</th>\n",
       "      <td></td>\n",
       "      <td></td>\n",
       "    </tr>\n",
       "    <tr>\n",
       "      <th>1</th>\n",
       "      <td>.</td>\n",
       "      <td>.</td>\n",
       "    </tr>\n",
       "    <tr>\n",
       "      <th>2</th>\n",
       "      <td>“</td>\n",
       "      <td></td>\n",
       "    </tr>\n",
       "    <tr>\n",
       "      <th>3</th>\n",
       "      <td>\"</td>\n",
       "      <td></td>\n",
       "    </tr>\n",
       "    <tr>\n",
       "      <th>4</th>\n",
       "      <td>-</td>\n",
       "      <td></td>\n",
       "    </tr>\n",
       "  </tbody>\n",
       "</table>\n",
       "</div>"
      ],
      "text/plain": [
       "  special replace\n",
       "0                \n",
       "1       .       .\n",
       "2       “        \n",
       "3       \"        \n",
       "4       -        "
      ]
     },
     "execution_count": 10,
     "metadata": {},
     "output_type": "execute_result"
    }
   ],
   "source": [
    "special_df = pd.read_csv('special.csv', encoding='utf-8')\n",
    "special_df = special_df.fillna('')\n",
    "special_df.head()"
   ]
  },
  {
   "cell_type": "markdown",
   "metadata": {},
   "source": [
    "* special_dict 생성 (special => replace로 변환)"
   ]
  },
  {
   "cell_type": "code",
   "execution_count": 11,
   "metadata": {},
   "outputs": [],
   "source": [
    "special_dict = dict()\n",
    "\n",
    "for (special, replace) in zip(special_df['special'], special_df['replace']):\n",
    "    special_dict[special] = replace\n",
    "\n",
    "special_dict[' '] = ' '"
   ]
  },
  {
   "cell_type": "markdown",
   "metadata": {},
   "source": [
    "* in 연산자로 체크를 위해 list 형식으로 저장"
   ]
  },
  {
   "cell_type": "code",
   "execution_count": 12,
   "metadata": {},
   "outputs": [],
   "source": [
    "specials = list(special_df['special'])\n",
    "replaces = list(special_df['replace'])"
   ]
  },
  {
   "cell_type": "markdown",
   "metadata": {},
   "source": [
    "* 특수문자들을 원하는 발음전사로 변환"
   ]
  },
  {
   "cell_type": "code",
   "execution_count": 13,
   "metadata": {},
   "outputs": [],
   "source": [
    "new_corpus = list()\n",
    "\n",
    "for sentence in kor_corpus:\n",
    "    new_sentence = str()\n",
    "    for ch in sentence:\n",
    "        if ch in specials:\n",
    "            new_sentence += special_dict[ch]\n",
    "        else:\n",
    "            new_sentence += ch\n",
    "            \n",
    "    new_corpus.append(new_sentence)"
   ]
  },
  {
   "cell_type": "markdown",
   "metadata": {},
   "source": [
    "* 특수문자가 적절히 변경되었는지 확인"
   ]
  },
  {
   "cell_type": "code",
   "execution_count": 14,
   "metadata": {},
   "outputs": [
    {
     "data": {
      "text/plain": [
       "['어디 보자...',\n",
       " '7대 왕국 종족 중에 오크는 처음 듣는다',\n",
       " '이번에 새로 개시할 제품 계열은 광고 모델을 계약해서 홍보하는 게 좋겠어요.',\n",
       " '라니스터 가의',\n",
       " '별 희한한 생각이 다 떠오르곤 하죠',\n",
       " '아!',\n",
       " '회의 전에 마실 것 좀 드릴까요? 커피와 차가 있습니다.',\n",
       " '나는 그런 일에는 전혀 흥미가 없어요.',\n",
       " '일자리가 있고 제대로 된 회사가 있다면 늘 사람들이 붐비고 활력이 넘치는 도시로 자리매김할 수 있다.',\n",
       " '카카오가 많이 함유된 다크 초콜릿이 더 좋다는 것을 잊지 말자.',\n",
       " '비오 13세는 누구인가?',\n",
       " '네 어..',\n",
       " '치밀한 사람이긴 하지만...',\n",
       " '계속 절 따라오셨죠',\n",
       " '세계 4위 특허출원 강국이지만 지식재산 심사 품질과 보호 수준이 낮아 가치를 제대로 인정받지 못하고 있다.',\n",
       " '나는 전부터 이 학교를 잘 알고 있었어.',\n",
       " '뭔가 꿍꿍이를 꾸미는게 틀림없어',\n",
       " '어쩔 수 없이 과학 수업에 늦었습니다.',\n",
       " '가르시아 에르난데스 토니 그란데 하비에르 미냐노 등 축구대표팀의 외국인 코치들이 8일 오후  오스트리아 레오강의 대표팀 숙소에서 인터뷰에 응하고있다.',\n",
       " '검찰은  다 녹음 됐으니까  따지려면 따져볼 수 있다고 말하기도 했다.']"
      ]
     },
     "execution_count": 14,
     "metadata": {},
     "output_type": "execute_result"
    }
   ],
   "source": [
    "new_corpus[:20]"
   ]
  },
  {
   "cell_type": "markdown",
   "metadata": {},
   "source": [
    "* corpus 업데이트"
   ]
  },
  {
   "cell_type": "code",
   "execution_count": 15,
   "metadata": {},
   "outputs": [],
   "source": [
    "kor_corpus = new_corpus"
   ]
  },
  {
   "cell_type": "markdown",
   "metadata": {},
   "source": [
    "* 알파벳 필터링 (소문자)"
   ]
  },
  {
   "cell_type": "code",
   "execution_count": 16,
   "metadata": {},
   "outputs": [],
   "source": [
    "alphabet = ['a', 'b', 'c', 'd', 'e', 'f', 'g', 'h', 'i', 'j', 'k', 'l', 'm', 'n', 'o', 'p', 'q', 'r', 's', 't', 'u', 'v', 'w', 'x', 'y', 'z']\n",
    "new_corpus = list()\n",
    "\n",
    "for sentence in kor_corpus:\n",
    "    new_sentence = str()\n",
    "    for ch in sentence:\n",
    "        if ch in alphabet:\n",
    "            continue\n",
    "        else:\n",
    "            new_sentence += ch\n",
    "            \n",
    "    new_corpus.append(new_sentence)"
   ]
  },
  {
   "cell_type": "code",
   "execution_count": 17,
   "metadata": {},
   "outputs": [
    {
     "data": {
      "text/plain": [
       "['어디 보자...',\n",
       " '7대 왕국 종족 중에 오크는 처음 듣는다',\n",
       " '이번에 새로 개시할 제품 계열은 광고 모델을 계약해서 홍보하는 게 좋겠어요.',\n",
       " '라니스터 가의',\n",
       " '별 희한한 생각이 다 떠오르곤 하죠',\n",
       " '아!',\n",
       " '회의 전에 마실 것 좀 드릴까요? 커피와 차가 있습니다.',\n",
       " '나는 그런 일에는 전혀 흥미가 없어요.',\n",
       " '일자리가 있고 제대로 된 회사가 있다면 늘 사람들이 붐비고 활력이 넘치는 도시로 자리매김할 수 있다.',\n",
       " '카카오가 많이 함유된 다크 초콜릿이 더 좋다는 것을 잊지 말자.',\n",
       " '비오 13세는 누구인가?',\n",
       " '네 어..',\n",
       " '치밀한 사람이긴 하지만...',\n",
       " '계속 절 따라오셨죠',\n",
       " '세계 4위 특허출원 강국이지만 지식재산 심사 품질과 보호 수준이 낮아 가치를 제대로 인정받지 못하고 있다.',\n",
       " '나는 전부터 이 학교를 잘 알고 있었어.',\n",
       " '뭔가 꿍꿍이를 꾸미는게 틀림없어',\n",
       " '어쩔 수 없이 과학 수업에 늦었습니다.',\n",
       " '가르시아 에르난데스 토니 그란데 하비에르 미냐노 등 축구대표팀의 외국인 코치들이 8일 오후  오스트리아 레오강의 대표팀 숙소에서 인터뷰에 응하고있다.',\n",
       " '검찰은  다 녹음 됐으니까  따지려면 따져볼 수 있다고 말하기도 했다.']"
      ]
     },
     "execution_count": 17,
     "metadata": {},
     "output_type": "execute_result"
    }
   ],
   "source": [
    "kor_corpus = new_corpus\n",
    "kor_corpus[:20]"
   ]
  },
  {
   "cell_type": "markdown",
   "metadata": {},
   "source": [
    "* 대문자 필터링 (발음으로 전사 ex) K리그 => 케이리그)"
   ]
  },
  {
   "cell_type": "code",
   "execution_count": 18,
   "metadata": {},
   "outputs": [],
   "source": [
    "new_corpus = list()\n",
    "upper = ['A', 'B', 'C','D','E','F','G','H','I','J','K','L','M','N','O','P','Q','R','S','T','U','V','W','X','Y','Z']\n",
    "upper_dict = {'A' : '에이', 'B' : '비', 'C' : '씨','D' : '디','E' : '이','F' : '에프','G' : '쥐',\n",
    "              'H' : '에이취','I' : '아이','J' : '제이','K' : '케이','L' : '엘','M' : '엠','N' : '엔',\n",
    "              'O' : '오','P' : '피','Q' : '큐','R' : '알','S' : '에스','T' : '티','U' : '유','V' : '브이','W' : '떠블유',\n",
    "              'X' : '엑스','Y' : '와이','Z' : '지'}\n",
    "\n",
    "for sentence in kor_corpus:\n",
    "    new_sentence = str()\n",
    "    for idx, ch in enumerate(sentence):\n",
    "        if ch in upper:\n",
    "            if idx == 0 and (idx == len(sentence) - 1 or sentence[idx + 1] == ' '):\n",
    "                continue\n",
    "                \n",
    "            elif idx != 0 and idx < len(sentence) - 1 and sentence[idx + 1] == ' ' and sentence[idx - 1] == ' ':\n",
    "                continue\n",
    "                \n",
    "            elif idx != 0 and sentence[idx -1] == ' ' and idx + 1 == len(sentence):\n",
    "                continue\n",
    "                \n",
    "            else:\n",
    "                new_sentence += upper_dict[ch]\n",
    "            \n",
    "        else:\n",
    "            new_sentence += ch\n",
    "            \n",
    "    new_corpus.append(new_sentence)"
   ]
  },
  {
   "cell_type": "code",
   "execution_count": 19,
   "metadata": {},
   "outputs": [
    {
     "data": {
      "text/plain": [
       "['어디 보자...',\n",
       " '7대 왕국 종족 중에 오크는 처음 듣는다',\n",
       " '이번에 새로 개시할 제품 계열은 광고 모델을 계약해서 홍보하는 게 좋겠어요.',\n",
       " '라니스터 가의',\n",
       " '별 희한한 생각이 다 떠오르곤 하죠',\n",
       " '아!',\n",
       " '회의 전에 마실 것 좀 드릴까요? 커피와 차가 있습니다.',\n",
       " '나는 그런 일에는 전혀 흥미가 없어요.',\n",
       " '일자리가 있고 제대로 된 회사가 있다면 늘 사람들이 붐비고 활력이 넘치는 도시로 자리매김할 수 있다.',\n",
       " '카카오가 많이 함유된 다크 초콜릿이 더 좋다는 것을 잊지 말자.',\n",
       " '비오 13세는 누구인가?',\n",
       " '네 어..',\n",
       " '치밀한 사람이긴 하지만...',\n",
       " '계속 절 따라오셨죠',\n",
       " '세계 4위 특허출원 강국이지만 지식재산 심사 품질과 보호 수준이 낮아 가치를 제대로 인정받지 못하고 있다.',\n",
       " '나는 전부터 이 학교를 잘 알고 있었어.',\n",
       " '뭔가 꿍꿍이를 꾸미는게 틀림없어',\n",
       " '어쩔 수 없이 과학 수업에 늦었습니다.',\n",
       " '가르시아 에르난데스 토니 그란데 하비에르 미냐노 등 축구대표팀의 외국인 코치들이 8일 오후  오스트리아 레오강의 대표팀 숙소에서 인터뷰에 응하고있다.',\n",
       " '검찰은  다 녹음 됐으니까  따지려면 따져볼 수 있다고 말하기도 했다.']"
      ]
     },
     "execution_count": 19,
     "metadata": {},
     "output_type": "execute_result"
    }
   ],
   "source": [
    "new_corpus[:20]"
   ]
  },
  {
   "cell_type": "markdown",
   "metadata": {},
   "source": [
    "* 데이터셋 업데이트"
   ]
  },
  {
   "cell_type": "code",
   "execution_count": 20,
   "metadata": {},
   "outputs": [],
   "source": [
    "kor_corpus = new_corpus"
   ]
  },
  {
   "cell_type": "markdown",
   "metadata": {},
   "source": [
    "* 긴 공백 => ' '"
   ]
  },
  {
   "cell_type": "code",
   "execution_count": 21,
   "metadata": {},
   "outputs": [],
   "source": [
    "new_corpus = list()\n",
    "\n",
    "for sentence in kor_corpus:\n",
    "    new_sentence = str()\n",
    "    tokens = sentence.split()\n",
    "    for idx, token in enumerate(tokens):\n",
    "        if idx == 0:\n",
    "            new_sentence += token + ' '\n",
    "        elif idx == len(tokens) - 1:\n",
    "            new_sentence += token\n",
    "        else:\n",
    "            new_sentence += token + ' '\n",
    "            \n",
    "    new_corpus.append(new_sentence)"
   ]
  },
  {
   "cell_type": "code",
   "execution_count": 22,
   "metadata": {},
   "outputs": [
    {
     "data": {
      "text/plain": [
       "['어디 보자...',\n",
       " '7대 왕국 종족 중에 오크는 처음 듣는다',\n",
       " '이번에 새로 개시할 제품 계열은 광고 모델을 계약해서 홍보하는 게 좋겠어요.',\n",
       " '라니스터 가의',\n",
       " '별 희한한 생각이 다 떠오르곤 하죠',\n",
       " '아! ',\n",
       " '회의 전에 마실 것 좀 드릴까요? 커피와 차가 있습니다.',\n",
       " '나는 그런 일에는 전혀 흥미가 없어요.',\n",
       " '일자리가 있고 제대로 된 회사가 있다면 늘 사람들이 붐비고 활력이 넘치는 도시로 자리매김할 수 있다.',\n",
       " '카카오가 많이 함유된 다크 초콜릿이 더 좋다는 것을 잊지 말자.',\n",
       " '비오 13세는 누구인가?',\n",
       " '네 어..',\n",
       " '치밀한 사람이긴 하지만...',\n",
       " '계속 절 따라오셨죠',\n",
       " '세계 4위 특허출원 강국이지만 지식재산 심사 품질과 보호 수준이 낮아 가치를 제대로 인정받지 못하고 있다.',\n",
       " '나는 전부터 이 학교를 잘 알고 있었어.',\n",
       " '뭔가 꿍꿍이를 꾸미는게 틀림없어',\n",
       " '어쩔 수 없이 과학 수업에 늦었습니다.',\n",
       " '가르시아 에르난데스 토니 그란데 하비에르 미냐노 등 축구대표팀의 외국인 코치들이 8일 오후 오스트리아 레오강의 대표팀 숙소에서 인터뷰에 응하고있다.',\n",
       " '검찰은 다 녹음 됐으니까 따지려면 따져볼 수 있다고 말하기도 했다.']"
      ]
     },
     "execution_count": 22,
     "metadata": {},
     "output_type": "execute_result"
    }
   ],
   "source": [
    "new_corpus[:20]"
   ]
  },
  {
   "cell_type": "markdown",
   "metadata": {},
   "source": [
    "* 데이터셋 업데이트"
   ]
  },
  {
   "cell_type": "code",
   "execution_count": 23,
   "metadata": {},
   "outputs": [],
   "source": [
    "kor_corpus = new_corpus"
   ]
  },
  {
   "cell_type": "markdown",
   "metadata": {},
   "source": [
    "* 데이터셋 크기 확인"
   ]
  },
  {
   "cell_type": "code",
   "execution_count": 24,
   "metadata": {},
   "outputs": [
    {
     "data": {
      "text/plain": [
       "3048264"
      ]
     },
     "execution_count": 24,
     "metadata": {},
     "output_type": "execute_result"
    }
   ],
   "source": [
    "len(kor_corpus)"
   ]
  },
  {
   "cell_type": "markdown",
   "metadata": {},
   "source": [
    "* 필터링 되면서 빈문자열만 남은 데이터 제외"
   ]
  },
  {
   "cell_type": "code",
   "execution_count": 25,
   "metadata": {},
   "outputs": [],
   "source": [
    "new_corpus = list()\n",
    "\n",
    "for sentence in kor_corpus:\n",
    "    if len(sentence) == 0:\n",
    "        continue\n",
    "    new_corpus.append(sentence)"
   ]
  },
  {
   "cell_type": "markdown",
   "metadata": {},
   "source": [
    "* 약 25,000개 필터링"
   ]
  },
  {
   "cell_type": "code",
   "execution_count": 26,
   "metadata": {},
   "outputs": [
    {
     "data": {
      "text/plain": [
       "3023296"
      ]
     },
     "execution_count": 26,
     "metadata": {},
     "output_type": "execute_result"
    }
   ],
   "source": [
    "len(new_corpus)"
   ]
  },
  {
   "cell_type": "markdown",
   "metadata": {},
   "source": [
    "* 데이터셋 업데이트"
   ]
  },
  {
   "cell_type": "code",
   "execution_count": 27,
   "metadata": {},
   "outputs": [],
   "source": [
    "kor_corpus = new_corpus"
   ]
  },
  {
   "cell_type": "markdown",
   "metadata": {},
   "source": [
    "* 아무지점이나 찍어서 중간확인"
   ]
  },
  {
   "cell_type": "code",
   "execution_count": 28,
   "metadata": {},
   "outputs": [
    {
     "data": {
      "text/plain": [
       "['이란 세계식량계획 사무소 대표 및 국가 담당국장 쥐는 2018년 올해 주이란 한국대사관 측이 220만 달러를 기부했을 때 한국 국민과 정부에 감사의 뜻을 전하기도 했다.',\n",
       " '조심해요 오염된 거예요',\n",
       " '그건 그렇고 메이즈는 어때?',\n",
       " '간에 있는 덩어리가..',\n",
       " '. ',\n",
       " '물렸어요? ',\n",
       " '안 보이나 보네',\n",
       " '그 전엔 아무것도 쓸 것 이 없었어요. 닥터 그레이.',\n",
       " '하루만 머무를 거요',\n",
       " '그런건 내 일이 아니라서 다른 도움이 필요하면 말해 난 쇼파에 있을꺼야',\n",
       " '고마워 ',\n",
       " '취업준비생들은 현실적으로 청년취업이 어려운 상황에서 아쉽다는 반응이었다.',\n",
       " '시장을 떠나는 순간 덮치겠음',\n",
       " '그리고 디자인이랑',\n",
       " '저항권이란 위헌적인 국가권력의 행사 때문에 헌법이 침해 또는 파괴되는 경우 주권자인 국민이 헌법을 보장하기 위해 최후 비상수단으로 국가권력에 실력으로 저항하는 것입니다.',\n",
       " '현대모비스 양동근도 정규 리그에서 상대해 본 결과 함지훈을 막을 선수가 없다는 게 전자랜드의 약점이라고 지적했다.',\n",
       " '아사히는 꾸준히 한국어 공부를 하면서 내가 하고 싶은 노래를 만들기 위해 항상 들고 다닌다고 말해 아티스트로서 더욱 발전할 수 있는 가능성을 보여줬다.',\n",
       " '서양마사지 방식으로는 스웨디시 마사지 에스알엔 그리고 홀리스틱 마사지가 있다.',\n",
       " '내 말을 들었더라면',\n",
       " '앞으로 이렇게 수도권 광역 경제발전위원회가 자주 열려서 다양한 이야기를 해야 한다.']"
      ]
     },
     "execution_count": 28,
     "metadata": {},
     "output_type": "execute_result"
    }
   ],
   "source": [
    "kor_corpus[6000:6020]"
   ]
  },
  {
   "cell_type": "markdown",
   "metadata": {},
   "source": [
    "* 뒤에가 공백으로 끝나는 문자열 공백 제거"
   ]
  },
  {
   "cell_type": "code",
   "execution_count": 29,
   "metadata": {},
   "outputs": [],
   "source": [
    "for idx, sentence in enumerate(kor_corpus):\n",
    "    if sentence[-1] == ' ':\n",
    "        kor_corpus[idx] = sentence[:-1] "
   ]
  },
  {
   "cell_type": "code",
   "execution_count": 30,
   "metadata": {},
   "outputs": [
    {
     "data": {
      "text/plain": [
       "['이란 세계식량계획 사무소 대표 및 국가 담당국장 쥐는 2018년 올해 주이란 한국대사관 측이 220만 달러를 기부했을 때 한국 국민과 정부에 감사의 뜻을 전하기도 했다.',\n",
       " '조심해요 오염된 거예요',\n",
       " '그건 그렇고 메이즈는 어때?',\n",
       " '간에 있는 덩어리가..',\n",
       " '.',\n",
       " '물렸어요?',\n",
       " '안 보이나 보네',\n",
       " '그 전엔 아무것도 쓸 것 이 없었어요. 닥터 그레이.',\n",
       " '하루만 머무를 거요',\n",
       " '그런건 내 일이 아니라서 다른 도움이 필요하면 말해 난 쇼파에 있을꺼야',\n",
       " '고마워',\n",
       " '취업준비생들은 현실적으로 청년취업이 어려운 상황에서 아쉽다는 반응이었다.',\n",
       " '시장을 떠나는 순간 덮치겠음',\n",
       " '그리고 디자인이랑',\n",
       " '저항권이란 위헌적인 국가권력의 행사 때문에 헌법이 침해 또는 파괴되는 경우 주권자인 국민이 헌법을 보장하기 위해 최후 비상수단으로 국가권력에 실력으로 저항하는 것입니다.',\n",
       " '현대모비스 양동근도 정규 리그에서 상대해 본 결과 함지훈을 막을 선수가 없다는 게 전자랜드의 약점이라고 지적했다.',\n",
       " '아사히는 꾸준히 한국어 공부를 하면서 내가 하고 싶은 노래를 만들기 위해 항상 들고 다닌다고 말해 아티스트로서 더욱 발전할 수 있는 가능성을 보여줬다.',\n",
       " '서양마사지 방식으로는 스웨디시 마사지 에스알엔 그리고 홀리스틱 마사지가 있다.',\n",
       " '내 말을 들었더라면',\n",
       " '앞으로 이렇게 수도권 광역 경제발전위원회가 자주 열려서 다양한 이야기를 해야 한다.']"
      ]
     },
     "execution_count": 30,
     "metadata": {},
     "output_type": "execute_result"
    }
   ],
   "source": [
    "kor_corpus[6000:6020]"
   ]
  },
  {
   "cell_type": "markdown",
   "metadata": {},
   "source": [
    "* 현재 데이터셋 크기 확인"
   ]
  },
  {
   "cell_type": "code",
   "execution_count": 31,
   "metadata": {},
   "outputs": [
    {
     "data": {
      "text/plain": [
       "3023296"
      ]
     },
     "execution_count": 31,
     "metadata": {},
     "output_type": "execute_result"
    }
   ],
   "source": [
    "len(kor_corpus)"
   ]
  },
  {
   "cell_type": "markdown",
   "metadata": {},
   "source": [
    "* '?', '!', '.'만 남은 문자열 필터링"
   ]
  },
  {
   "cell_type": "code",
   "execution_count": 32,
   "metadata": {},
   "outputs": [
    {
     "data": {
      "text/plain": [
       "3001447"
      ]
     },
     "execution_count": 32,
     "metadata": {},
     "output_type": "execute_result"
    }
   ],
   "source": [
    "new_corpus = list()\n",
    "\n",
    "for sentence in kor_corpus:\n",
    "    if sentence == '?' or sentence == '!' or sentence == '.':\n",
    "        continue\n",
    "        \n",
    "    else:\n",
    "        new_corpus.append(sentence)\n",
    "        \n",
    "len(new_corpus)"
   ]
  },
  {
   "cell_type": "markdown",
   "metadata": {},
   "source": [
    "* 약 2만개 필터링 후 데이터셋 업데이트"
   ]
  },
  {
   "cell_type": "code",
   "execution_count": 33,
   "metadata": {},
   "outputs": [],
   "source": [
    "kor_corpus = new_corpus"
   ]
  },
  {
   "cell_type": "markdown",
   "metadata": {},
   "source": [
    "* import **KoNPron** (Korean Number Pronunciaion) => 숫자를 발음전사로 변환"
   ]
  },
  {
   "cell_type": "code",
   "execution_count": 34,
   "metadata": {},
   "outputs": [],
   "source": [
    "from konpron import KoNPron\n",
    "\n",
    "kpr = KoNPron()"
   ]
  },
  {
   "cell_type": "markdown",
   "metadata": {},
   "source": [
    "* **KoNPron** 테스트"
   ]
  },
  {
   "cell_type": "code",
   "execution_count": 35,
   "metadata": {},
   "outputs": [
    {
     "name": "stdout",
     "output_type": "stream",
     "text": [
      "천이백삼십사랑, 십이 점 삼사랑, 천이백삼십사랑, 백이십삼의 사 승랑, 일의 이백삼십사 승랑, 일 점 이삼의 사 승랑, 십이 점 삼의 사 승랑, 일이삼사랑, 이억 구천삼백삼십만 천삼백 점 오오삼영일의 사 승\n"
     ]
    }
   ],
   "source": [
    "sentence = \"1234랑, 12.34랑, 1,234랑, 123^4랑, 1²³⁴랑, 1.23^4랑, 12.3⁴랑, 12·34랑, 293301300.55301⁴\"\n",
    "\n",
    "ret = kpr.convert(sentence)\n",
    "if ret is not None:\n",
    "    print(ret)"
   ]
  },
  {
   "cell_type": "markdown",
   "metadata": {},
   "source": [
    "* **KoNPron**으로 숫자 => 발음전사로 변환"
   ]
  },
  {
   "cell_type": "code",
   "execution_count": 36,
   "metadata": {},
   "outputs": [],
   "source": [
    "new_corpus = list()\n",
    "\n",
    "for sentence in kor_corpus:\n",
    "    try:\n",
    "        ret = kpr.convert(sentence)\n",
    "        if ret is not None:\n",
    "            new_corpus.append(ret)\n",
    "        else:\n",
    "            new_corpus.append(sentence)\n",
    "    except:\n",
    "        print(sentence)"
   ]
  },
  {
   "cell_type": "code",
   "execution_count": 37,
   "metadata": {},
   "outputs": [],
   "source": [
    "kor_corpus = new_corpus"
   ]
  },
  {
   "cell_type": "markdown",
   "metadata": {},
   "source": [
    "* 음향모델에서 사용하는 2,040개의 문자 레이블로만 이루어진 문장 수 확인"
   ]
  },
  {
   "cell_type": "code",
   "execution_count": 38,
   "metadata": {},
   "outputs": [
    {
     "name": "stdout",
     "output_type": "stream",
     "text": [
      "2992120\n"
     ]
    }
   ],
   "source": [
    "acoustic_labels = list(pd.read_csv('train_labels.csv')['char'])\n",
    "count = 0\n",
    "\n",
    "for sentence in kor_corpus:\n",
    "    for ch in sentence:\n",
    "        if ch not in acoustic_labels:\n",
    "            count += 1\n",
    "            break\n",
    "\n",
    "print(len(kor_corpus) - count)"
   ]
  },
  {
   "cell_type": "markdown",
   "metadata": {},
   "source": [
    "* 조건에 만족하는 2,992,638개의 문장들로 최종 코퍼스 구성"
   ]
  },
  {
   "cell_type": "code",
   "execution_count": 41,
   "metadata": {},
   "outputs": [
    {
     "data": {
      "text/plain": [
       "2992120"
      ]
     },
     "execution_count": 41,
     "metadata": {},
     "output_type": "execute_result"
    }
   ],
   "source": [
    "final_corpus = list()\n",
    "\n",
    "for sentence in kor_corpus:\n",
    "    flag = True\n",
    "    for ch in sentence:\n",
    "        if ch not in acoustic_labels:\n",
    "            flag = False\n",
    "            break\n",
    "    if flag:\n",
    "        final_corpus.append(sentence)\n",
    "\n",
    "len(final_corpus)"
   ]
  },
  {
   "cell_type": "code",
   "execution_count": 44,
   "metadata": {},
   "outputs": [],
   "source": [
    "import csv\n",
    "\n",
    "def load_label(label_path, encoding='utf-8'):\n",
    "    char2id = dict()\n",
    "    id2char = dict()\n",
    "\n",
    "    with open(label_path, 'r', encoding=encoding) as f:\n",
    "        labels = csv.reader(f, delimiter=',')\n",
    "        next(labels)\n",
    "\n",
    "        for row in labels:\n",
    "            char2id[row[1]] = row[0]\n",
    "            id2char[int(row[0])] = row[1]\n",
    "\n",
    "    return char2id, id2char\n",
    "\n",
    "char2id, id2char = load_label('train_labels.csv')"
   ]
  },
  {
   "cell_type": "code",
   "execution_count": 49,
   "metadata": {},
   "outputs": [
    {
     "name": "stdout",
     "output_type": "stream",
     "text": [
      "2992120\n",
      "2992120\n"
     ]
    }
   ],
   "source": [
    "corpus_labels = list()\n",
    "\n",
    "for sentence in final_corpus:\n",
    "    label = str()\n",
    "    for ch in sentence:\n",
    "        if idx == 0:\n",
    "            label += char2id[ch] + ' '\n",
    "        elif idx == len(sentence) - 1:\n",
    "            label += char2id[ch]\n",
    "        else:\n",
    "            label += char2id[ch] + ' '\n",
    "    \n",
    "    corpus_labels.append(label)\n",
    "    \n",
    "print(len(final_corpus))\n",
    "print(len(corpus_labels))"
   ]
  },
  {
   "cell_type": "code",
   "execution_count": 50,
   "metadata": {},
   "outputs": [
    {
     "data": {
      "text/html": [
       "<div>\n",
       "<style scoped>\n",
       "    .dataframe tbody tr th:only-of-type {\n",
       "        vertical-align: middle;\n",
       "    }\n",
       "\n",
       "    .dataframe tbody tr th {\n",
       "        vertical-align: top;\n",
       "    }\n",
       "\n",
       "    .dataframe thead th {\n",
       "        text-align: right;\n",
       "    }\n",
       "</style>\n",
       "<table border=\"1\" class=\"dataframe\">\n",
       "  <thead>\n",
       "    <tr style=\"text-align: right;\">\n",
       "      <th></th>\n",
       "      <th>ko</th>\n",
       "      <th>id</th>\n",
       "    </tr>\n",
       "  </thead>\n",
       "  <tbody>\n",
       "    <tr>\n",
       "      <th>0</th>\n",
       "      <td>어디 보자...</td>\n",
       "      <td>8 190 0 42 45 1 1 1</td>\n",
       "    </tr>\n",
       "    <tr>\n",
       "      <th>1</th>\n",
       "      <td>칠대 왕국 종족 중에 오크는 처음 듣는다</td>\n",
       "      <td>318 50 0 576 170 0 363 401 0 129 17 0 57 238 4...</td>\n",
       "    </tr>\n",
       "    <tr>\n",
       "      <th>2</th>\n",
       "      <td>이번에 새로 개시할 제품 계열은 광고 모델을 계약해서 홍보하는 게 좋겠어요.</td>\n",
       "      <td>3 93 17 0 260 38 0 168 47 91 0 43 467 0 142 22...</td>\n",
       "    </tr>\n",
       "    <tr>\n",
       "      <th>3</th>\n",
       "      <td>라니스터 가의</td>\n",
       "      <td>32 20 79 162 0 6 130</td>\n",
       "    </tr>\n",
       "    <tr>\n",
       "      <th>4</th>\n",
       "      <td>별 희한한 생각이 다 떠오르곤 하죠</td>\n",
       "      <td>233 0 439 27 27 0 71 100 3 0 15 0 512 57 114 5...</td>\n",
       "    </tr>\n",
       "  </tbody>\n",
       "</table>\n",
       "</div>"
      ],
      "text/plain": [
       "                                           ko  \\\n",
       "0                                    어디 보자...   \n",
       "1                      칠대 왕국 종족 중에 오크는 처음 듣는다   \n",
       "2  이번에 새로 개시할 제품 계열은 광고 모델을 계약해서 홍보하는 게 좋겠어요.   \n",
       "3                                     라니스터 가의   \n",
       "4                         별 희한한 생각이 다 떠오르곤 하죠   \n",
       "\n",
       "                                                  id  \n",
       "0                               8 190 0 42 45 1 1 1   \n",
       "1  318 50 0 576 170 0 363 401 0 129 17 0 57 238 4...  \n",
       "2  3 93 17 0 260 38 0 168 47 91 0 43 467 0 142 22...  \n",
       "3                              32 20 79 162 0 6 130   \n",
       "4  233 0 439 27 27 0 71 100 3 0 15 0 512 57 114 5...  "
      ]
     },
     "execution_count": 50,
     "metadata": {},
     "output_type": "execute_result"
    }
   ],
   "source": [
    "corpus_dict = {'ko' : final_corpus,\n",
    "               'id' : corpus_labels}\n",
    "corpus_df = pd.DataFrame(corpus_dict)\n",
    "\n",
    "corpus_df.head()"
   ]
  },
  {
   "cell_type": "code",
   "execution_count": 51,
   "metadata": {},
   "outputs": [
    {
     "data": {
      "text/plain": [
       "2992120"
      ]
     },
     "execution_count": 51,
     "metadata": {},
     "output_type": "execute_result"
    }
   ],
   "source": [
    "len(corpus_df)"
   ]
  },
  {
   "cell_type": "markdown",
   "metadata": {},
   "source": [
    "* 데이터셋 피클로 저장"
   ]
  },
  {
   "cell_type": "code",
   "execution_count": 52,
   "metadata": {},
   "outputs": [],
   "source": [
    "import pickle\n",
    "\n",
    "with open('corpus_df.bin', 'wb') as f:\n",
    "    pickle.dump(corpus_df, f)"
   ]
  }
 ],
 "metadata": {
  "kernelspec": {
   "display_name": "Python 3",
   "language": "python",
   "name": "python3"
  },
  "language_info": {
   "codemirror_mode": {
    "name": "ipython",
    "version": 3
   },
   "file_extension": ".py",
   "mimetype": "text/x-python",
   "name": "python",
   "nbconvert_exporter": "python",
   "pygments_lexer": "ipython3",
   "version": "3.7.6"
  }
 },
 "nbformat": 4,
 "nbformat_minor": 2
}
